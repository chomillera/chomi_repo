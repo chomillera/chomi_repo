{
 "cells": [
  {
   "cell_type": "markdown",
   "metadata": {},
   "source": [
    "<b>Data Cleansing (IMDB Dataset)</b><br>\n",
    "Faisal Sugangga (chomillera)<br>\n",
    "IG: faisalsugangga<br>\n",
    "Email: faisalsugangga@gmail.com"
   ]
  },
  {
   "cell_type": "code",
   "execution_count": 1,
   "metadata": {},
   "outputs": [],
   "source": [
    "import pandas as pd\n",
    "import matplotlib.pyplot as plt\n",
    "import plotly.express as px\n",
    "import numpy as np\n",
    "from tabulate import tabulate as tbl"
   ]
  },
  {
   "cell_type": "code",
   "execution_count": 2,
   "metadata": {},
   "outputs": [],
   "source": [
    "dataset = pd.read_csv('movie_sample_dataset.csv')"
   ]
  },
  {
   "cell_type": "code",
   "execution_count": 3,
   "metadata": {},
   "outputs": [
    {
     "name": "stdout",
     "output_type": "stream",
     "text": [
      "<class 'pandas.core.frame.DataFrame'>\n",
      "RangeIndex: 99 entries, 0 to 98\n",
      "Data columns (total 13 columns):\n",
      " #   Column                Non-Null Count  Dtype  \n",
      "---  ------                --------------  -----  \n",
      " 0   color                 88 non-null     object \n",
      " 1   director_name         88 non-null     object \n",
      " 2   duration              99 non-null     int64  \n",
      " 3   gross                 91 non-null     float64\n",
      " 4   genres                98 non-null     object \n",
      " 5   movie_title           99 non-null     object \n",
      " 6   title_year            99 non-null     int64  \n",
      " 7   language              99 non-null     object \n",
      " 8   country               99 non-null     object \n",
      " 9   budget                95 non-null     float64\n",
      " 10  imdb_score            99 non-null     float64\n",
      " 11  actors                99 non-null     object \n",
      " 12  movie_facebook_likes  99 non-null     int64  \n",
      "dtypes: float64(3), int64(3), object(7)\n",
      "memory usage: 10.2+ KB\n"
     ]
    }
   ],
   "source": [
    "dataset.info()"
   ]
  },
  {
   "cell_type": "code",
   "execution_count": 4,
   "metadata": {},
   "outputs": [
    {
     "data": {
      "text/html": [
       "<div>\n",
       "<style scoped>\n",
       "    .dataframe tbody tr th:only-of-type {\n",
       "        vertical-align: middle;\n",
       "    }\n",
       "\n",
       "    .dataframe tbody tr th {\n",
       "        vertical-align: top;\n",
       "    }\n",
       "\n",
       "    .dataframe thead th {\n",
       "        text-align: right;\n",
       "    }\n",
       "</style>\n",
       "<table border=\"1\" class=\"dataframe\">\n",
       "  <thead>\n",
       "    <tr style=\"text-align: right;\">\n",
       "      <th></th>\n",
       "      <th>color</th>\n",
       "      <th>director_name</th>\n",
       "      <th>duration</th>\n",
       "      <th>gross</th>\n",
       "      <th>genres</th>\n",
       "      <th>movie_title</th>\n",
       "      <th>title_year</th>\n",
       "      <th>language</th>\n",
       "      <th>country</th>\n",
       "      <th>budget</th>\n",
       "      <th>imdb_score</th>\n",
       "      <th>actors</th>\n",
       "      <th>movie_facebook_likes</th>\n",
       "    </tr>\n",
       "  </thead>\n",
       "  <tbody>\n",
       "    <tr>\n",
       "      <th>0</th>\n",
       "      <td>Color</td>\n",
       "      <td>Martin Scorsese</td>\n",
       "      <td>240</td>\n",
       "      <td>116866727.0</td>\n",
       "      <td>Biography|Comedy|Crime|Drama</td>\n",
       "      <td>The Wolf of Wall Street</td>\n",
       "      <td>2013</td>\n",
       "      <td>English</td>\n",
       "      <td>USA</td>\n",
       "      <td>100000000.0</td>\n",
       "      <td>8.2</td>\n",
       "      <td>Leonardo DiCaprio,Matthew McConaughey,Jon Favreau</td>\n",
       "      <td>138000</td>\n",
       "    </tr>\n",
       "    <tr>\n",
       "      <th>1</th>\n",
       "      <td>Color</td>\n",
       "      <td>Shane Black</td>\n",
       "      <td>195</td>\n",
       "      <td>408992272.0</td>\n",
       "      <td>Action|Adventure|Sci-Fi</td>\n",
       "      <td>Iron Man 3</td>\n",
       "      <td>2013</td>\n",
       "      <td>English</td>\n",
       "      <td>USA</td>\n",
       "      <td>200000000.0</td>\n",
       "      <td>7.2</td>\n",
       "      <td>Robert Downey Jr.,Jon Favreau,Don Cheadle</td>\n",
       "      <td>95000</td>\n",
       "    </tr>\n",
       "    <tr>\n",
       "      <th>2</th>\n",
       "      <td>color</td>\n",
       "      <td>Quentin Tarantino</td>\n",
       "      <td>187</td>\n",
       "      <td>54116191.0</td>\n",
       "      <td>Crime|Drama|Mystery|Thriller|Western</td>\n",
       "      <td>The Hateful Eight</td>\n",
       "      <td>2015</td>\n",
       "      <td>English</td>\n",
       "      <td>USA</td>\n",
       "      <td>44000000.0</td>\n",
       "      <td>7.9</td>\n",
       "      <td>Craig Stark,Jennifer Jason Leigh,Zoë Bell</td>\n",
       "      <td>114000</td>\n",
       "    </tr>\n",
       "    <tr>\n",
       "      <th>3</th>\n",
       "      <td>Color</td>\n",
       "      <td>Kenneth Lonergan</td>\n",
       "      <td>186</td>\n",
       "      <td>46495.0</td>\n",
       "      <td>Drama</td>\n",
       "      <td>Margaret</td>\n",
       "      <td>2011</td>\n",
       "      <td>English</td>\n",
       "      <td>usa</td>\n",
       "      <td>14000000.0</td>\n",
       "      <td>6.5</td>\n",
       "      <td>Matt Damon,Kieran Culkin,John Gallagher Jr.</td>\n",
       "      <td>0</td>\n",
       "    </tr>\n",
       "    <tr>\n",
       "      <th>4</th>\n",
       "      <td>Color</td>\n",
       "      <td>Peter Jackson</td>\n",
       "      <td>186</td>\n",
       "      <td>258355354.0</td>\n",
       "      <td>Adventure|Fantasy</td>\n",
       "      <td>The Hobbit: The Desolation of Smaug</td>\n",
       "      <td>2013</td>\n",
       "      <td>English</td>\n",
       "      <td>USA</td>\n",
       "      <td>225000000.0</td>\n",
       "      <td>7.9</td>\n",
       "      <td>Aidan Turner,Adam Brown,James Nesbitt</td>\n",
       "      <td>83000</td>\n",
       "    </tr>\n",
       "  </tbody>\n",
       "</table>\n",
       "</div>"
      ],
      "text/plain": [
       "    color      director_name  duration        gross  \\\n",
       "0   Color    Martin Scorsese       240  116866727.0   \n",
       "1   Color        Shane Black       195  408992272.0   \n",
       "2  color   Quentin Tarantino       187   54116191.0   \n",
       "3   Color   Kenneth Lonergan       186      46495.0   \n",
       "4   Color      Peter Jackson       186  258355354.0   \n",
       "\n",
       "                                 genres                          movie_title  \\\n",
       "0          Biography|Comedy|Crime|Drama              The Wolf of Wall Street   \n",
       "1               Action|Adventure|Sci-Fi                           Iron Man 3   \n",
       "2  Crime|Drama|Mystery|Thriller|Western                    The Hateful Eight   \n",
       "3                                 Drama                             Margaret   \n",
       "4                     Adventure|Fantasy  The Hobbit: The Desolation of Smaug   \n",
       "\n",
       "   title_year language country       budget  imdb_score  \\\n",
       "0        2013  English     USA  100000000.0         8.2   \n",
       "1        2013  English     USA  200000000.0         7.2   \n",
       "2        2015  English     USA   44000000.0         7.9   \n",
       "3        2011  English     usa   14000000.0         6.5   \n",
       "4        2013  English     USA  225000000.0         7.9   \n",
       "\n",
       "                                              actors  movie_facebook_likes  \n",
       "0  Leonardo DiCaprio,Matthew McConaughey,Jon Favreau                138000  \n",
       "1          Robert Downey Jr.,Jon Favreau,Don Cheadle                 95000  \n",
       "2          Craig Stark,Jennifer Jason Leigh,Zoë Bell                114000  \n",
       "3        Matt Damon,Kieran Culkin,John Gallagher Jr.                     0  \n",
       "4              Aidan Turner,Adam Brown,James Nesbitt                 83000  "
      ]
     },
     "execution_count": 4,
     "metadata": {},
     "output_type": "execute_result"
    }
   ],
   "source": [
    "dataset.head()"
   ]
  },
  {
   "cell_type": "markdown",
   "metadata": {},
   "source": [
    "# Melakukan drop pada kolom yang tidak diperlukan"
   ]
  },
  {
   "cell_type": "code",
   "execution_count": 5,
   "metadata": {},
   "outputs": [
    {
     "data": {
      "text/plain": [
       "0     138000\n",
       "1      95000\n",
       "2     114000\n",
       "3          0\n",
       "4      83000\n",
       "       ...  \n",
       "94     83000\n",
       "95         0\n",
       "96     65000\n",
       "97     82000\n",
       "98     16000\n",
       "Name: movie_facebook_likes, Length: 99, dtype: int64"
      ]
     },
     "execution_count": 5,
     "metadata": {},
     "output_type": "execute_result"
    }
   ],
   "source": [
    "dataset['movie_facebook_likes'].head(100)"
   ]
  },
  {
   "cell_type": "code",
   "execution_count": 6,
   "metadata": {},
   "outputs": [
    {
     "data": {
      "text/plain": [
       "0      Color\n",
       "1      Color\n",
       "2     color \n",
       "3      Color\n",
       "4      Color\n",
       "       ...  \n",
       "94     Color\n",
       "95     Color\n",
       "96     Color\n",
       "97     Color\n",
       "98     Color\n",
       "Name: color, Length: 99, dtype: object"
      ]
     },
     "execution_count": 6,
     "metadata": {},
     "output_type": "execute_result"
    }
   ],
   "source": [
    "dataset['color'].head(100)"
   ]
  },
  {
   "cell_type": "code",
   "execution_count": 7,
   "metadata": {},
   "outputs": [
    {
     "data": {
      "text/plain": [
       "0     Leonardo DiCaprio,Matthew McConaughey,Jon Favreau\n",
       "1             Robert Downey Jr.,Jon Favreau,Don Cheadle\n",
       "2             Craig Stark,Jennifer Jason Leigh,Zoë Bell\n",
       "3           Matt Damon,Kieran Culkin,John Gallagher Jr.\n",
       "4                 Aidan Turner,Adam Brown,James Nesbitt\n",
       "                            ...                        \n",
       "94         Quvenzhané Wallis,Scoot McNairy,Taran Killam\n",
       "95                     Mark Addy,Atom Egoyan,Paul Gross\n",
       "96               Tom Hanks,Chris Mulkey,Michael Chernus\n",
       "97                   Brad Pitt,Logan Lerman,Jim Parrack\n",
       "98        Johnny Cannizzaro,Steve Schirripa,Scott Vance\n",
       "Name: actors, Length: 99, dtype: object"
      ]
     },
     "execution_count": 7,
     "metadata": {},
     "output_type": "execute_result"
    }
   ],
   "source": [
    "dataset['actors'].head(100)"
   ]
  },
  {
   "cell_type": "code",
   "execution_count": 8,
   "metadata": {},
   "outputs": [],
   "source": [
    "dataset_drop = dataset.drop(['movie_facebook_likes','color','actors'], axis=1)"
   ]
  },
  {
   "cell_type": "code",
   "execution_count": 9,
   "metadata": {},
   "outputs": [
    {
     "name": "stdout",
     "output_type": "stream",
     "text": [
      "<class 'pandas.core.frame.DataFrame'>\n",
      "RangeIndex: 99 entries, 0 to 98\n",
      "Data columns (total 10 columns):\n",
      " #   Column         Non-Null Count  Dtype  \n",
      "---  ------         --------------  -----  \n",
      " 0   director_name  88 non-null     object \n",
      " 1   duration       99 non-null     int64  \n",
      " 2   gross          91 non-null     float64\n",
      " 3   genres         98 non-null     object \n",
      " 4   movie_title    99 non-null     object \n",
      " 5   title_year     99 non-null     int64  \n",
      " 6   language       99 non-null     object \n",
      " 7   country        99 non-null     object \n",
      " 8   budget         95 non-null     float64\n",
      " 9   imdb_score     99 non-null     float64\n",
      "dtypes: float64(3), int64(2), object(5)\n",
      "memory usage: 7.9+ KB\n"
     ]
    }
   ],
   "source": [
    "dataset_drop.info()"
   ]
  },
  {
   "cell_type": "markdown",
   "metadata": {},
   "source": [
    "# Mengecek data N/A dan memutuskan apa yang akan dilakukan terhadap data yang N/A"
   ]
  },
  {
   "cell_type": "code",
   "execution_count": 10,
   "metadata": {},
   "outputs": [
    {
     "data": {
      "text/plain": [
       "director_name    11\n",
       "duration          0\n",
       "gross             8\n",
       "genres            1\n",
       "movie_title       0\n",
       "title_year        0\n",
       "language          0\n",
       "country           0\n",
       "budget            4\n",
       "imdb_score        0\n",
       "dtype: int64"
      ]
     },
     "execution_count": 10,
     "metadata": {},
     "output_type": "execute_result"
    }
   ],
   "source": [
    "dataset_drop.isna().sum()"
   ]
  },
  {
   "cell_type": "markdown",
   "metadata": {},
   "source": [
    "## Kolom director_name"
   ]
  },
  {
   "cell_type": "code",
   "execution_count": 11,
   "metadata": {},
   "outputs": [
    {
     "data": {
      "text/plain": [
       "array(['Martin Scorsese', 'Shane Black', 'Quentin Tarantino',\n",
       "       'Kenneth Lonergan', 'Peter Jackson', nan, 'Edward Hall',\n",
       "       'Joss Whedon', 'Tom Tykwer', 'Null', 'Christopher Spencer',\n",
       "       'Christopher Nolan', 'F. Gary Gray', 'Richard Linklater',\n",
       "       'Michael Bay', 'Tom Hooper', 'Kathryn Bigelow', 'Ridley Scott',\n",
       "       'Denis Villeneuve', 'Gnana Rajasekaran', 'Marc Webb', 'Nan',\n",
       "       'Mike Leigh', 'Gore Verbinski', 'David Fincher', 'Bryan Singer',\n",
       "       'Jay Oliva', 'Paul Thomas Anderson', 'Sam Mendes',\n",
       "       'Michael Patrick King', 'Tate Taylor', 'Francis Lawrence',\n",
       "       'Steven Spielberg', 'Guillaume Canet', 'Adam McKay', 'Zack Snyder',\n",
       "       'Baz Luhrmann', 'Timur Bekmambetov', 'Justin Chadwick',\n",
       "       'Oliver Stone', 'David Dobkin', 'Ryan Murphy', 'James Wan',\n",
       "       'Derek Cianfrance', \"Gavin O'Connor\", 'Gary Ross',\n",
       "       'Terrence Malick', 'Robert Zemeckis', 'Darren Aronofsky',\n",
       "       'James Mangold', 'Daniel Espinosa', 'Walter Salles',\n",
       "       'Angelina Jolie Pitt', 'Seth MacFarlane', 'Anthony Russo',\n",
       "       'Rob Marshall', 'Adam Shankman', 'Sadyk Sher-Niyaz', 'Tony Gilroy',\n",
       "       'Steve McQueen', 'Richard J. Lewis', 'Paul Greengrass',\n",
       "       'David Ayer', 'Clint Eastwood'], dtype=object)"
      ]
     },
     "execution_count": 11,
     "metadata": {},
     "output_type": "execute_result"
    }
   ],
   "source": [
    "dataset_drop['director_name'].unique()"
   ]
  },
  {
   "cell_type": "code",
   "execution_count": 12,
   "metadata": {},
   "outputs": [],
   "source": [
    "dataset_drop['director_name'] = dataset_drop['director_name'].fillna(' ')"
   ]
  },
  {
   "cell_type": "code",
   "execution_count": 13,
   "metadata": {},
   "outputs": [
    {
     "data": {
      "text/plain": [
       "array(['Martin Scorsese', 'Shane Black', 'Quentin Tarantino',\n",
       "       'Kenneth Lonergan', 'Peter Jackson', ' ', 'Edward Hall',\n",
       "       'Joss Whedon', 'Tom Tykwer', 'Null', 'Christopher Spencer',\n",
       "       'Christopher Nolan', 'F. Gary Gray', 'Richard Linklater',\n",
       "       'Michael Bay', 'Tom Hooper', 'Kathryn Bigelow', 'Ridley Scott',\n",
       "       'Denis Villeneuve', 'Gnana Rajasekaran', 'Marc Webb', 'Nan',\n",
       "       'Mike Leigh', 'Gore Verbinski', 'David Fincher', 'Bryan Singer',\n",
       "       'Jay Oliva', 'Paul Thomas Anderson', 'Sam Mendes',\n",
       "       'Michael Patrick King', 'Tate Taylor', 'Francis Lawrence',\n",
       "       'Steven Spielberg', 'Guillaume Canet', 'Adam McKay', 'Zack Snyder',\n",
       "       'Baz Luhrmann', 'Timur Bekmambetov', 'Justin Chadwick',\n",
       "       'Oliver Stone', 'David Dobkin', 'Ryan Murphy', 'James Wan',\n",
       "       'Derek Cianfrance', \"Gavin O'Connor\", 'Gary Ross',\n",
       "       'Terrence Malick', 'Robert Zemeckis', 'Darren Aronofsky',\n",
       "       'James Mangold', 'Daniel Espinosa', 'Walter Salles',\n",
       "       'Angelina Jolie Pitt', 'Seth MacFarlane', 'Anthony Russo',\n",
       "       'Rob Marshall', 'Adam Shankman', 'Sadyk Sher-Niyaz', 'Tony Gilroy',\n",
       "       'Steve McQueen', 'Richard J. Lewis', 'Paul Greengrass',\n",
       "       'David Ayer', 'Clint Eastwood'], dtype=object)"
      ]
     },
     "execution_count": 13,
     "metadata": {},
     "output_type": "execute_result"
    }
   ],
   "source": [
    "dataset_drop['director_name'].unique()\n",
    "# sepertinya masih muncul kolom Nan dan Null"
   ]
  },
  {
   "cell_type": "code",
   "execution_count": 14,
   "metadata": {},
   "outputs": [
    {
     "data": {
      "text/plain": [
       "director_name    0\n",
       "duration         0\n",
       "gross            8\n",
       "genres           1\n",
       "movie_title      0\n",
       "title_year       0\n",
       "language         0\n",
       "country          0\n",
       "budget           4\n",
       "imdb_score       0\n",
       "dtype: int64"
      ]
     },
     "execution_count": 14,
     "metadata": {},
     "output_type": "execute_result"
    }
   ],
   "source": [
    "dataset_drop.isna().sum()"
   ]
  },
  {
   "cell_type": "code",
   "execution_count": 15,
   "metadata": {},
   "outputs": [],
   "source": [
    "# Untuk memastikan, kita akan gunakan metode replace untuk memastikan kolom Null dan Nan ikut terganti\n",
    "\n",
    "dataset_drop['director_name'] = dataset_drop['director_name'].replace('Null', ' ')\n",
    "dataset_drop['director_name'] = dataset_drop['director_name'].replace('Nan', ' ')"
   ]
  },
  {
   "cell_type": "code",
   "execution_count": 16,
   "metadata": {},
   "outputs": [
    {
     "data": {
      "text/plain": [
       "array(['Martin Scorsese', 'Shane Black', 'Quentin Tarantino',\n",
       "       'Kenneth Lonergan', 'Peter Jackson', ' ', 'Edward Hall',\n",
       "       'Joss Whedon', 'Tom Tykwer', 'Christopher Spencer',\n",
       "       'Christopher Nolan', 'F. Gary Gray', 'Richard Linklater',\n",
       "       'Michael Bay', 'Tom Hooper', 'Kathryn Bigelow', 'Ridley Scott',\n",
       "       'Denis Villeneuve', 'Gnana Rajasekaran', 'Marc Webb', 'Mike Leigh',\n",
       "       'Gore Verbinski', 'David Fincher', 'Bryan Singer', 'Jay Oliva',\n",
       "       'Paul Thomas Anderson', 'Sam Mendes', 'Michael Patrick King',\n",
       "       'Tate Taylor', 'Francis Lawrence', 'Steven Spielberg',\n",
       "       'Guillaume Canet', 'Adam McKay', 'Zack Snyder', 'Baz Luhrmann',\n",
       "       'Timur Bekmambetov', 'Justin Chadwick', 'Oliver Stone',\n",
       "       'David Dobkin', 'Ryan Murphy', 'James Wan', 'Derek Cianfrance',\n",
       "       \"Gavin O'Connor\", 'Gary Ross', 'Terrence Malick',\n",
       "       'Robert Zemeckis', 'Darren Aronofsky', 'James Mangold',\n",
       "       'Daniel Espinosa', 'Walter Salles', 'Angelina Jolie Pitt',\n",
       "       'Seth MacFarlane', 'Anthony Russo', 'Rob Marshall',\n",
       "       'Adam Shankman', 'Sadyk Sher-Niyaz', 'Tony Gilroy',\n",
       "       'Steve McQueen', 'Richard J. Lewis', 'Paul Greengrass',\n",
       "       'David Ayer', 'Clint Eastwood'], dtype=object)"
      ]
     },
     "execution_count": 16,
     "metadata": {},
     "output_type": "execute_result"
    }
   ],
   "source": [
    "dataset_drop['director_name'].unique()"
   ]
  },
  {
   "cell_type": "markdown",
   "metadata": {},
   "source": [
    "## Kolom duration"
   ]
  },
  {
   "cell_type": "code",
   "execution_count": 17,
   "metadata": {},
   "outputs": [
    {
     "data": {
      "application/vnd.plotly.v1+json": {
       "config": {
        "plotlyServerURL": "https://plot.ly"
       },
       "data": [
        {
         "alignmentgroup": "True",
         "hovertemplate": "duration=%{y}<extra></extra>",
         "legendgroup": "",
         "marker": {
          "color": "#636efa"
         },
         "name": "",
         "notched": false,
         "offsetgroup": "",
         "orientation": "v",
         "showlegend": false,
         "type": "box",
         "x0": " ",
         "xaxis": "x",
         "y": [
          240,
          195,
          187,
          186,
          186,
          183,
          -50,
          180,
          173,
          173,
          172,
          158,
          170,
          169,
          167,
          165,
          580,
          165,
          164,
          164,
          158,
          158,
          157,
          156,
          156,
          154,
          153,
          153,
          153,
          151,
          150,
          150,
          150,
          150,
          650,
          149,
          149,
          148,
          148,
          148,
          148,
          147,
          146,
          146,
          146,
          146,
          144,
          144,
          144,
          144,
          143,
          143,
          143,
          143,
          143,
          143,
          143,
          142,
          142,
          142,
          141,
          141,
          141,
          141,
          141,
          141,
          141,
          140,
          140,
          140,
          140,
          139,
          139,
          139,
          139,
          138,
          138,
          138,
          138,
          138,
          138,
          137,
          137,
          137,
          137,
          137,
          137,
          136,
          136,
          136,
          136,
          136,
          135,
          135,
          134,
          134,
          134,
          134,
          5
         ],
         "y0": " ",
         "yaxis": "y"
        }
       ],
       "layout": {
        "boxmode": "group",
        "legend": {
         "tracegroupgap": 0
        },
        "margin": {
         "t": 60
        },
        "template": {
         "data": {
          "bar": [
           {
            "error_x": {
             "color": "#2a3f5f"
            },
            "error_y": {
             "color": "#2a3f5f"
            },
            "marker": {
             "line": {
              "color": "#E5ECF6",
              "width": 0.5
             },
             "pattern": {
              "fillmode": "overlay",
              "size": 10,
              "solidity": 0.2
             }
            },
            "type": "bar"
           }
          ],
          "barpolar": [
           {
            "marker": {
             "line": {
              "color": "#E5ECF6",
              "width": 0.5
             },
             "pattern": {
              "fillmode": "overlay",
              "size": 10,
              "solidity": 0.2
             }
            },
            "type": "barpolar"
           }
          ],
          "carpet": [
           {
            "aaxis": {
             "endlinecolor": "#2a3f5f",
             "gridcolor": "white",
             "linecolor": "white",
             "minorgridcolor": "white",
             "startlinecolor": "#2a3f5f"
            },
            "baxis": {
             "endlinecolor": "#2a3f5f",
             "gridcolor": "white",
             "linecolor": "white",
             "minorgridcolor": "white",
             "startlinecolor": "#2a3f5f"
            },
            "type": "carpet"
           }
          ],
          "choropleth": [
           {
            "colorbar": {
             "outlinewidth": 0,
             "ticks": ""
            },
            "type": "choropleth"
           }
          ],
          "contour": [
           {
            "colorbar": {
             "outlinewidth": 0,
             "ticks": ""
            },
            "colorscale": [
             [
              0,
              "#0d0887"
             ],
             [
              0.1111111111111111,
              "#46039f"
             ],
             [
              0.2222222222222222,
              "#7201a8"
             ],
             [
              0.3333333333333333,
              "#9c179e"
             ],
             [
              0.4444444444444444,
              "#bd3786"
             ],
             [
              0.5555555555555556,
              "#d8576b"
             ],
             [
              0.6666666666666666,
              "#ed7953"
             ],
             [
              0.7777777777777778,
              "#fb9f3a"
             ],
             [
              0.8888888888888888,
              "#fdca26"
             ],
             [
              1,
              "#f0f921"
             ]
            ],
            "type": "contour"
           }
          ],
          "contourcarpet": [
           {
            "colorbar": {
             "outlinewidth": 0,
             "ticks": ""
            },
            "type": "contourcarpet"
           }
          ],
          "heatmap": [
           {
            "colorbar": {
             "outlinewidth": 0,
             "ticks": ""
            },
            "colorscale": [
             [
              0,
              "#0d0887"
             ],
             [
              0.1111111111111111,
              "#46039f"
             ],
             [
              0.2222222222222222,
              "#7201a8"
             ],
             [
              0.3333333333333333,
              "#9c179e"
             ],
             [
              0.4444444444444444,
              "#bd3786"
             ],
             [
              0.5555555555555556,
              "#d8576b"
             ],
             [
              0.6666666666666666,
              "#ed7953"
             ],
             [
              0.7777777777777778,
              "#fb9f3a"
             ],
             [
              0.8888888888888888,
              "#fdca26"
             ],
             [
              1,
              "#f0f921"
             ]
            ],
            "type": "heatmap"
           }
          ],
          "heatmapgl": [
           {
            "colorbar": {
             "outlinewidth": 0,
             "ticks": ""
            },
            "colorscale": [
             [
              0,
              "#0d0887"
             ],
             [
              0.1111111111111111,
              "#46039f"
             ],
             [
              0.2222222222222222,
              "#7201a8"
             ],
             [
              0.3333333333333333,
              "#9c179e"
             ],
             [
              0.4444444444444444,
              "#bd3786"
             ],
             [
              0.5555555555555556,
              "#d8576b"
             ],
             [
              0.6666666666666666,
              "#ed7953"
             ],
             [
              0.7777777777777778,
              "#fb9f3a"
             ],
             [
              0.8888888888888888,
              "#fdca26"
             ],
             [
              1,
              "#f0f921"
             ]
            ],
            "type": "heatmapgl"
           }
          ],
          "histogram": [
           {
            "marker": {
             "pattern": {
              "fillmode": "overlay",
              "size": 10,
              "solidity": 0.2
             }
            },
            "type": "histogram"
           }
          ],
          "histogram2d": [
           {
            "colorbar": {
             "outlinewidth": 0,
             "ticks": ""
            },
            "colorscale": [
             [
              0,
              "#0d0887"
             ],
             [
              0.1111111111111111,
              "#46039f"
             ],
             [
              0.2222222222222222,
              "#7201a8"
             ],
             [
              0.3333333333333333,
              "#9c179e"
             ],
             [
              0.4444444444444444,
              "#bd3786"
             ],
             [
              0.5555555555555556,
              "#d8576b"
             ],
             [
              0.6666666666666666,
              "#ed7953"
             ],
             [
              0.7777777777777778,
              "#fb9f3a"
             ],
             [
              0.8888888888888888,
              "#fdca26"
             ],
             [
              1,
              "#f0f921"
             ]
            ],
            "type": "histogram2d"
           }
          ],
          "histogram2dcontour": [
           {
            "colorbar": {
             "outlinewidth": 0,
             "ticks": ""
            },
            "colorscale": [
             [
              0,
              "#0d0887"
             ],
             [
              0.1111111111111111,
              "#46039f"
             ],
             [
              0.2222222222222222,
              "#7201a8"
             ],
             [
              0.3333333333333333,
              "#9c179e"
             ],
             [
              0.4444444444444444,
              "#bd3786"
             ],
             [
              0.5555555555555556,
              "#d8576b"
             ],
             [
              0.6666666666666666,
              "#ed7953"
             ],
             [
              0.7777777777777778,
              "#fb9f3a"
             ],
             [
              0.8888888888888888,
              "#fdca26"
             ],
             [
              1,
              "#f0f921"
             ]
            ],
            "type": "histogram2dcontour"
           }
          ],
          "mesh3d": [
           {
            "colorbar": {
             "outlinewidth": 0,
             "ticks": ""
            },
            "type": "mesh3d"
           }
          ],
          "parcoords": [
           {
            "line": {
             "colorbar": {
              "outlinewidth": 0,
              "ticks": ""
             }
            },
            "type": "parcoords"
           }
          ],
          "pie": [
           {
            "automargin": true,
            "type": "pie"
           }
          ],
          "scatter": [
           {
            "fillpattern": {
             "fillmode": "overlay",
             "size": 10,
             "solidity": 0.2
            },
            "type": "scatter"
           }
          ],
          "scatter3d": [
           {
            "line": {
             "colorbar": {
              "outlinewidth": 0,
              "ticks": ""
             }
            },
            "marker": {
             "colorbar": {
              "outlinewidth": 0,
              "ticks": ""
             }
            },
            "type": "scatter3d"
           }
          ],
          "scattercarpet": [
           {
            "marker": {
             "colorbar": {
              "outlinewidth": 0,
              "ticks": ""
             }
            },
            "type": "scattercarpet"
           }
          ],
          "scattergeo": [
           {
            "marker": {
             "colorbar": {
              "outlinewidth": 0,
              "ticks": ""
             }
            },
            "type": "scattergeo"
           }
          ],
          "scattergl": [
           {
            "marker": {
             "colorbar": {
              "outlinewidth": 0,
              "ticks": ""
             }
            },
            "type": "scattergl"
           }
          ],
          "scattermapbox": [
           {
            "marker": {
             "colorbar": {
              "outlinewidth": 0,
              "ticks": ""
             }
            },
            "type": "scattermapbox"
           }
          ],
          "scatterpolar": [
           {
            "marker": {
             "colorbar": {
              "outlinewidth": 0,
              "ticks": ""
             }
            },
            "type": "scatterpolar"
           }
          ],
          "scatterpolargl": [
           {
            "marker": {
             "colorbar": {
              "outlinewidth": 0,
              "ticks": ""
             }
            },
            "type": "scatterpolargl"
           }
          ],
          "scatterternary": [
           {
            "marker": {
             "colorbar": {
              "outlinewidth": 0,
              "ticks": ""
             }
            },
            "type": "scatterternary"
           }
          ],
          "surface": [
           {
            "colorbar": {
             "outlinewidth": 0,
             "ticks": ""
            },
            "colorscale": [
             [
              0,
              "#0d0887"
             ],
             [
              0.1111111111111111,
              "#46039f"
             ],
             [
              0.2222222222222222,
              "#7201a8"
             ],
             [
              0.3333333333333333,
              "#9c179e"
             ],
             [
              0.4444444444444444,
              "#bd3786"
             ],
             [
              0.5555555555555556,
              "#d8576b"
             ],
             [
              0.6666666666666666,
              "#ed7953"
             ],
             [
              0.7777777777777778,
              "#fb9f3a"
             ],
             [
              0.8888888888888888,
              "#fdca26"
             ],
             [
              1,
              "#f0f921"
             ]
            ],
            "type": "surface"
           }
          ],
          "table": [
           {
            "cells": {
             "fill": {
              "color": "#EBF0F8"
             },
             "line": {
              "color": "white"
             }
            },
            "header": {
             "fill": {
              "color": "#C8D4E3"
             },
             "line": {
              "color": "white"
             }
            },
            "type": "table"
           }
          ]
         },
         "layout": {
          "annotationdefaults": {
           "arrowcolor": "#2a3f5f",
           "arrowhead": 0,
           "arrowwidth": 1
          },
          "autotypenumbers": "strict",
          "coloraxis": {
           "colorbar": {
            "outlinewidth": 0,
            "ticks": ""
           }
          },
          "colorscale": {
           "diverging": [
            [
             0,
             "#8e0152"
            ],
            [
             0.1,
             "#c51b7d"
            ],
            [
             0.2,
             "#de77ae"
            ],
            [
             0.3,
             "#f1b6da"
            ],
            [
             0.4,
             "#fde0ef"
            ],
            [
             0.5,
             "#f7f7f7"
            ],
            [
             0.6,
             "#e6f5d0"
            ],
            [
             0.7,
             "#b8e186"
            ],
            [
             0.8,
             "#7fbc41"
            ],
            [
             0.9,
             "#4d9221"
            ],
            [
             1,
             "#276419"
            ]
           ],
           "sequential": [
            [
             0,
             "#0d0887"
            ],
            [
             0.1111111111111111,
             "#46039f"
            ],
            [
             0.2222222222222222,
             "#7201a8"
            ],
            [
             0.3333333333333333,
             "#9c179e"
            ],
            [
             0.4444444444444444,
             "#bd3786"
            ],
            [
             0.5555555555555556,
             "#d8576b"
            ],
            [
             0.6666666666666666,
             "#ed7953"
            ],
            [
             0.7777777777777778,
             "#fb9f3a"
            ],
            [
             0.8888888888888888,
             "#fdca26"
            ],
            [
             1,
             "#f0f921"
            ]
           ],
           "sequentialminus": [
            [
             0,
             "#0d0887"
            ],
            [
             0.1111111111111111,
             "#46039f"
            ],
            [
             0.2222222222222222,
             "#7201a8"
            ],
            [
             0.3333333333333333,
             "#9c179e"
            ],
            [
             0.4444444444444444,
             "#bd3786"
            ],
            [
             0.5555555555555556,
             "#d8576b"
            ],
            [
             0.6666666666666666,
             "#ed7953"
            ],
            [
             0.7777777777777778,
             "#fb9f3a"
            ],
            [
             0.8888888888888888,
             "#fdca26"
            ],
            [
             1,
             "#f0f921"
            ]
           ]
          },
          "colorway": [
           "#636efa",
           "#EF553B",
           "#00cc96",
           "#ab63fa",
           "#FFA15A",
           "#19d3f3",
           "#FF6692",
           "#B6E880",
           "#FF97FF",
           "#FECB52"
          ],
          "font": {
           "color": "#2a3f5f"
          },
          "geo": {
           "bgcolor": "white",
           "lakecolor": "white",
           "landcolor": "#E5ECF6",
           "showlakes": true,
           "showland": true,
           "subunitcolor": "white"
          },
          "hoverlabel": {
           "align": "left"
          },
          "hovermode": "closest",
          "mapbox": {
           "style": "light"
          },
          "paper_bgcolor": "white",
          "plot_bgcolor": "#E5ECF6",
          "polar": {
           "angularaxis": {
            "gridcolor": "white",
            "linecolor": "white",
            "ticks": ""
           },
           "bgcolor": "#E5ECF6",
           "radialaxis": {
            "gridcolor": "white",
            "linecolor": "white",
            "ticks": ""
           }
          },
          "scene": {
           "xaxis": {
            "backgroundcolor": "#E5ECF6",
            "gridcolor": "white",
            "gridwidth": 2,
            "linecolor": "white",
            "showbackground": true,
            "ticks": "",
            "zerolinecolor": "white"
           },
           "yaxis": {
            "backgroundcolor": "#E5ECF6",
            "gridcolor": "white",
            "gridwidth": 2,
            "linecolor": "white",
            "showbackground": true,
            "ticks": "",
            "zerolinecolor": "white"
           },
           "zaxis": {
            "backgroundcolor": "#E5ECF6",
            "gridcolor": "white",
            "gridwidth": 2,
            "linecolor": "white",
            "showbackground": true,
            "ticks": "",
            "zerolinecolor": "white"
           }
          },
          "shapedefaults": {
           "line": {
            "color": "#2a3f5f"
           }
          },
          "ternary": {
           "aaxis": {
            "gridcolor": "white",
            "linecolor": "white",
            "ticks": ""
           },
           "baxis": {
            "gridcolor": "white",
            "linecolor": "white",
            "ticks": ""
           },
           "bgcolor": "#E5ECF6",
           "caxis": {
            "gridcolor": "white",
            "linecolor": "white",
            "ticks": ""
           }
          },
          "title": {
           "x": 0.05
          },
          "xaxis": {
           "automargin": true,
           "gridcolor": "white",
           "linecolor": "white",
           "ticks": "",
           "title": {
            "standoff": 15
           },
           "zerolinecolor": "white",
           "zerolinewidth": 2
          },
          "yaxis": {
           "automargin": true,
           "gridcolor": "white",
           "linecolor": "white",
           "ticks": "",
           "title": {
            "standoff": 15
           },
           "zerolinecolor": "white",
           "zerolinewidth": 2
          }
         }
        },
        "xaxis": {
         "anchor": "y",
         "domain": [
          0,
          1
         ]
        },
        "yaxis": {
         "anchor": "x",
         "domain": [
          0,
          1
         ],
         "title": {
          "text": "duration"
         }
        }
       }
      }
     },
     "metadata": {},
     "output_type": "display_data"
    }
   ],
   "source": [
    "# Mengecek kolom duration, karena tidak ada N/A langsung kita cek outliernya\n",
    "fig = px.box(dataset_drop, y='duration')\n",
    "fig.show()"
   ]
  },
  {
   "cell_type": "code",
   "execution_count": 18,
   "metadata": {},
   "outputs": [
    {
     "data": {
      "text/plain": [
       "array([240, 195, 187, 186, 183, -50, 180, 173, 172, 158, 170, 169, 167,\n",
       "       165, 580, 164, 157, 156, 154, 153, 151, 150, 650, 149, 148, 147,\n",
       "       146, 144, 143, 142, 141, 140, 139, 138, 137, 136, 135, 134,   5],\n",
       "      dtype=int64)"
      ]
     },
     "execution_count": 18,
     "metadata": {},
     "output_type": "execute_result"
    }
   ],
   "source": [
    "dataset_drop['duration'].unique()"
   ]
  },
  {
   "cell_type": "code",
   "execution_count": 19,
   "metadata": {},
   "outputs": [],
   "source": [
    "# Merubah semua nilai negatif menjadi nilai positif karena pada dasarnya duration tidak mungkin terdapat negative value\n",
    "dataset_drop['duration'] = dataset_drop['duration'].abs()"
   ]
  },
  {
   "cell_type": "code",
   "execution_count": 20,
   "metadata": {},
   "outputs": [
    {
     "data": {
      "text/plain": [
       "array([240, 195, 187, 186, 183,  50, 180, 173, 172, 158, 170, 169, 167,\n",
       "       165, 580, 164, 157, 156, 154, 153, 151, 150, 650, 149, 148, 147,\n",
       "       146, 144, 143, 142, 141, 140, 139, 138, 137, 136, 135, 134,   5],\n",
       "      dtype=int64)"
      ]
     },
     "execution_count": 20,
     "metadata": {},
     "output_type": "execute_result"
    }
   ],
   "source": [
    "dataset_drop['duration'].unique()"
   ]
  },
  {
   "cell_type": "markdown",
   "metadata": {},
   "source": [
    "## Kolom gross"
   ]
  },
  {
   "cell_type": "code",
   "execution_count": 21,
   "metadata": {},
   "outputs": [
    {
     "data": {
      "text/plain": [
       "array([1.16866727e+08, 4.08992272e+08, 5.41161910e+07, 4.64950000e+04,\n",
       "       2.58355354e+08, 3.30249062e+08, 3.03001229e+08,            nan,\n",
       "       6.23279547e+08, 2.70985800e+07, 1.02515793e+08, 5.96961760e+07,\n",
       "       1.87991439e+08, 1.61029270e+08, 2.53592000e+07, 1.62804648e+08,\n",
       "       2.45428137e+08, 4.48130642e+08, 2.55108370e+08, 1.48775460e+08,\n",
       "       9.57207160e+07, 1.05219735e+08, 1.83635922e+08, 3.52358779e+08,\n",
       "       6.09628780e+07, 2.62030663e+08, 2.28430993e+08, 6.50070450e+07,\n",
       "       1.82204440e+08, 3.95850000e+06, 8.92899100e+07, 1.67735396e+08,\n",
       "       2.33914986e+08, 2.92568851e+08, 8.09331800e+06, 2.00074175e+08,\n",
       "       4.07197282e+08, 9.53289370e+07, 1.69705587e+08, 4.24645577e+08,\n",
       "       7.98833590e+07, 5.28224180e+07, 4.12290000e+04, 1.63772740e+07,\n",
       "       1.54985087e+08, 2.17531200e+06, 2.91021565e+08, 3.04360277e+08,\n",
       "       1.44812796e+08, 7.23060650e+07, 2.02853933e+08, 4.07999255e+08,\n",
       "       4.58991599e+08, 8.32474800e+06, 4.73075500e+07, 4.71050850e+07,\n",
       "       8.05740100e+07, 3.50034110e+08, 2.13832980e+07, 1.36516620e+07,\n",
       "       1.50832203e+08, 2.03899670e+07, 3.05139400e+07, 1.33033190e+07,\n",
       "       1.50117807e+08, 9.37492030e+07, 1.01160529e+08, 1.27968405e+08,\n",
       "       1.69693900e+07, 1.32550960e+08, 1.20613500e+06, 3.73049500e+07,\n",
       "       7.17753000e+05, 2.81666058e+08, 1.15603980e+08, 4.26156850e+07,\n",
       "       2.59746958e+08, 2.41063875e+08, 3.85093420e+07, 5.24746160e+07,\n",
       "       1.13165635e+08, 5.66678700e+07, 7.50140400e+06, 1.07100855e+08,\n",
       "       8.57071160e+07, 4.70342720e+07])"
      ]
     },
     "execution_count": 21,
     "metadata": {},
     "output_type": "execute_result"
    }
   ],
   "source": [
    "# Mengecek kolom gross\n",
    "dataset_drop['gross'].unique()"
   ]
  },
  {
   "cell_type": "code",
   "execution_count": 22,
   "metadata": {},
   "outputs": [],
   "source": [
    "# Mengganti data N/A di kolom gross menjadi 0\n",
    "dataset_drop['gross'].fillna(0, inplace=True)"
   ]
  },
  {
   "cell_type": "code",
   "execution_count": 23,
   "metadata": {},
   "outputs": [
    {
     "data": {
      "text/plain": [
       "array([1.16866727e+08, 4.08992272e+08, 5.41161910e+07, 4.64950000e+04,\n",
       "       2.58355354e+08, 3.30249062e+08, 3.03001229e+08, 0.00000000e+00,\n",
       "       6.23279547e+08, 2.70985800e+07, 1.02515793e+08, 5.96961760e+07,\n",
       "       1.87991439e+08, 1.61029270e+08, 2.53592000e+07, 1.62804648e+08,\n",
       "       2.45428137e+08, 4.48130642e+08, 2.55108370e+08, 1.48775460e+08,\n",
       "       9.57207160e+07, 1.05219735e+08, 1.83635922e+08, 3.52358779e+08,\n",
       "       6.09628780e+07, 2.62030663e+08, 2.28430993e+08, 6.50070450e+07,\n",
       "       1.82204440e+08, 3.95850000e+06, 8.92899100e+07, 1.67735396e+08,\n",
       "       2.33914986e+08, 2.92568851e+08, 8.09331800e+06, 2.00074175e+08,\n",
       "       4.07197282e+08, 9.53289370e+07, 1.69705587e+08, 4.24645577e+08,\n",
       "       7.98833590e+07, 5.28224180e+07, 4.12290000e+04, 1.63772740e+07,\n",
       "       1.54985087e+08, 2.17531200e+06, 2.91021565e+08, 3.04360277e+08,\n",
       "       1.44812796e+08, 7.23060650e+07, 2.02853933e+08, 4.07999255e+08,\n",
       "       4.58991599e+08, 8.32474800e+06, 4.73075500e+07, 4.71050850e+07,\n",
       "       8.05740100e+07, 3.50034110e+08, 2.13832980e+07, 1.36516620e+07,\n",
       "       1.50832203e+08, 2.03899670e+07, 3.05139400e+07, 1.33033190e+07,\n",
       "       1.50117807e+08, 9.37492030e+07, 1.01160529e+08, 1.27968405e+08,\n",
       "       1.69693900e+07, 1.32550960e+08, 1.20613500e+06, 3.73049500e+07,\n",
       "       7.17753000e+05, 2.81666058e+08, 1.15603980e+08, 4.26156850e+07,\n",
       "       2.59746958e+08, 2.41063875e+08, 3.85093420e+07, 5.24746160e+07,\n",
       "       1.13165635e+08, 5.66678700e+07, 7.50140400e+06, 1.07100855e+08,\n",
       "       8.57071160e+07, 4.70342720e+07])"
      ]
     },
     "execution_count": 23,
     "metadata": {},
     "output_type": "execute_result"
    }
   ],
   "source": [
    "dataset_drop['gross'].unique()"
   ]
  },
  {
   "cell_type": "markdown",
   "metadata": {},
   "source": [
    "## Kolom genres"
   ]
  },
  {
   "cell_type": "code",
   "execution_count": 24,
   "metadata": {},
   "outputs": [
    {
     "data": {
      "text/plain": [
       "array(['Biography|Comedy|Crime|Drama', 'Action|Adventure|Sci-Fi',\n",
       "       'Crime|Drama|Mystery|Thriller|Western', 'Drama',\n",
       "       'Adventure|Fantasy', 'Drama|Romance', 'Drama|Sci-Fi',\n",
       "       'Crime|Drama|Mystery|Thriller', nan, 'Adventure|Drama|Sci-Fi',\n",
       "       'Biography|Crime|Drama|History|Music', 'Drama|Western',\n",
       "       'Action|Thriller', 'Drama|Musical|Romance',\n",
       "       'Drama|History|Thriller', 'Action|Adventure|Drama|History',\n",
       "       'Adventure|Drama|Thriller|Western', 'Biography|Drama|History',\n",
       "       'Action|Adventure|Fantasy', 'Action|Adventure|Drama',\n",
       "       'Biography|Drama|History|War', 'Action|Adventure|Western',\n",
       "       'Action|Adventure|Fantasy|Sci-Fi|Thriller',\n",
       "       'Action|Animation|Crime|Sci-Fi|Thriller',\n",
       "       'Action|Adventure|Sci-Fi|Thriller',\n",
       "       'Comedy|Crime|Drama|Mystery|Romance', 'Action|Adventure|Thriller',\n",
       "       'Comedy|Drama|Romance', 'Adventure|Sci-Fi|Thriller', 'Drama|War',\n",
       "       'Action|Drama|Thriller|War', 'Crime|Drama|Thriller', 'Comedy',\n",
       "       'Action|Adventure|Fantasy|Sci-Fi', 'Drama|Horror|Thriller',\n",
       "       'Adventure|Drama|Sci-Fi|Thriller', 'Adventure|Drama|History',\n",
       "       'Crime|Drama', 'Action|Crime|Thriller', 'Drama|Sport',\n",
       "       'Adventure|Mystery|Sci-Fi', 'Action|Biography|Drama|History|War',\n",
       "       'Biography|Drama|Music', 'Drama|Fantasy', 'Drama|Thriller',\n",
       "       'Mystery|Thriller', 'Biography|Crime|Drama', 'Adventure|Drama',\n",
       "       'Adventure|Sci-Fi', 'Biography|Drama|Sport|War', 'Comedy|Western',\n",
       "       'Comedy|Drama|Musical|Romance', 'Action|Biography|Drama|History',\n",
       "       'Comedy|Drama', 'Biography|Drama|Thriller', 'Action|Drama|War',\n",
       "       'Biography|Drama|Music|Musical'], dtype=object)"
      ]
     },
     "execution_count": 24,
     "metadata": {},
     "output_type": "execute_result"
    }
   ],
   "source": [
    "# Mengecek kolom Genres\n",
    "dataset_drop['genres'].unique()"
   ]
  },
  {
   "cell_type": "code",
   "execution_count": 25,
   "metadata": {},
   "outputs": [
    {
     "data": {
      "text/plain": [
       "0                 Biography|Comedy|Crime|Drama\n",
       "1                      Action|Adventure|Sci-Fi\n",
       "2         Crime|Drama|Mystery|Thriller|Western\n",
       "3                                        Drama\n",
       "4                            Adventure|Fantasy\n",
       "5                      Action|Adventure|Sci-Fi\n",
       "6                            Adventure|Fantasy\n",
       "7                                Drama|Romance\n",
       "8                      Action|Adventure|Sci-Fi\n",
       "9                      Action|Adventure|Sci-Fi\n",
       "10                                Drama|Sci-Fi\n",
       "11                Crime|Drama|Mystery|Thriller\n",
       "12                                         NaN\n",
       "13                      Adventure|Drama|Sci-Fi\n",
       "14         Biography|Crime|Drama|History|Music\n",
       "15                                       Drama\n",
       "16                               Drama|Western\n",
       "17                     Action|Adventure|Sci-Fi\n",
       "18                             Action|Thriller\n",
       "19                           Adventure|Fantasy\n",
       "20                       Drama|Musical|Romance\n",
       "21                       Drama|Musical|Romance\n",
       "22                      Drama|History|Thriller\n",
       "23              Action|Adventure|Drama|History\n",
       "24            Adventure|Drama|Thriller|Western\n",
       "25                     Action|Adventure|Sci-Fi\n",
       "26                Crime|Drama|Mystery|Thriller\n",
       "27                     Biography|Drama|History\n",
       "28                    Action|Adventure|Fantasy\n",
       "29                      Adventure|Drama|Sci-Fi\n",
       "30                      Action|Adventure|Drama\n",
       "31                      Action|Adventure|Drama\n",
       "32                 Biography|Drama|History|War\n",
       "33                     Biography|Drama|History\n",
       "34                    Action|Adventure|Western\n",
       "35                Crime|Drama|Mystery|Thriller\n",
       "36    Action|Adventure|Fantasy|Sci-Fi|Thriller\n",
       "37      Action|Animation|Crime|Sci-Fi|Thriller\n",
       "38            Action|Adventure|Sci-Fi|Thriller\n",
       "39          Comedy|Crime|Drama|Mystery|Romance\n",
       "40                   Action|Adventure|Thriller\n",
       "41                     Action|Adventure|Sci-Fi\n",
       "42                        Comedy|Drama|Romance\n",
       "43                                       Drama\n",
       "44                   Adventure|Sci-Fi|Thriller\n",
       "45                                   Drama|War\n",
       "46                   Action|Drama|Thriller|War\n",
       "47                        Crime|Drama|Thriller\n",
       "48                                       Drama\n",
       "49                     Action|Adventure|Sci-Fi\n",
       "50                                      Comedy\n",
       "51             Action|Adventure|Fantasy|Sci-Fi\n",
       "52                   Action|Adventure|Thriller\n",
       "53                   Action|Adventure|Thriller\n",
       "54                               Drama|Romance\n",
       "55                               Drama|Romance\n",
       "56                       Drama|Horror|Thriller\n",
       "57                      Drama|History|Thriller\n",
       "58             Action|Adventure|Fantasy|Sci-Fi\n",
       "59             Adventure|Drama|Sci-Fi|Thriller\n",
       "60                     Action|Adventure|Sci-Fi\n",
       "61                     Adventure|Drama|History\n",
       "62                     Adventure|Drama|History\n",
       "63                     Adventure|Drama|History\n",
       "64                     Biography|Drama|History\n",
       "65                        Crime|Drama|Thriller\n",
       "66                                 Crime|Drama\n",
       "67                               Drama|Romance\n",
       "68                       Action|Crime|Thriller\n",
       "69                        Crime|Drama|Thriller\n",
       "70                                 Drama|Sport\n",
       "71                    Adventure|Mystery|Sci-Fi\n",
       "72          Action|Biography|Drama|History|War\n",
       "73                       Biography|Drama|Music\n",
       "74                               Drama|Fantasy\n",
       "75                                 Crime|Drama\n",
       "76                              Drama|Thriller\n",
       "77                      Action|Adventure|Drama\n",
       "78                            Mystery|Thriller\n",
       "79                        Crime|Drama|Thriller\n",
       "80            Action|Adventure|Sci-Fi|Thriller\n",
       "81                        Crime|Drama|Thriller\n",
       "82                       Biography|Crime|Drama\n",
       "83                             Adventure|Drama\n",
       "84                            Adventure|Sci-Fi\n",
       "85                   Biography|Drama|Sport|War\n",
       "86                   Biography|Drama|Sport|War\n",
       "87                              Comedy|Western\n",
       "88                     Action|Adventure|Sci-Fi\n",
       "89                    Action|Adventure|Fantasy\n",
       "90                Comedy|Drama|Musical|Romance\n",
       "91                                       Drama\n",
       "92              Action|Biography|Drama|History\n",
       "93                   Action|Adventure|Thriller\n",
       "94                     Biography|Drama|History\n",
       "95                                Comedy|Drama\n",
       "96                    Biography|Drama|Thriller\n",
       "97                            Action|Drama|War\n",
       "98               Biography|Drama|Music|Musical\n",
       "Name: genres, dtype: object"
      ]
     },
     "execution_count": 25,
     "metadata": {},
     "output_type": "execute_result"
    }
   ],
   "source": [
    "pd.set_option('display.max_rows', None)\n",
    "dataset_drop['genres']"
   ]
  },
  {
   "cell_type": "code",
   "execution_count": 26,
   "metadata": {},
   "outputs": [],
   "source": [
    "# Mengganti data NaN di kolom genres menjadi \"Other\"\n",
    "dataset_drop['genres'].fillna('Other', inplace=True)"
   ]
  },
  {
   "cell_type": "code",
   "execution_count": 27,
   "metadata": {},
   "outputs": [
    {
     "data": {
      "text/plain": [
       "0                 Biography|Comedy|Crime|Drama\n",
       "1                      Action|Adventure|Sci-Fi\n",
       "2         Crime|Drama|Mystery|Thriller|Western\n",
       "3                                        Drama\n",
       "4                            Adventure|Fantasy\n",
       "5                      Action|Adventure|Sci-Fi\n",
       "6                            Adventure|Fantasy\n",
       "7                                Drama|Romance\n",
       "8                      Action|Adventure|Sci-Fi\n",
       "9                      Action|Adventure|Sci-Fi\n",
       "10                                Drama|Sci-Fi\n",
       "11                Crime|Drama|Mystery|Thriller\n",
       "12                                       Other\n",
       "13                      Adventure|Drama|Sci-Fi\n",
       "14         Biography|Crime|Drama|History|Music\n",
       "15                                       Drama\n",
       "16                               Drama|Western\n",
       "17                     Action|Adventure|Sci-Fi\n",
       "18                             Action|Thriller\n",
       "19                           Adventure|Fantasy\n",
       "20                       Drama|Musical|Romance\n",
       "21                       Drama|Musical|Romance\n",
       "22                      Drama|History|Thriller\n",
       "23              Action|Adventure|Drama|History\n",
       "24            Adventure|Drama|Thriller|Western\n",
       "25                     Action|Adventure|Sci-Fi\n",
       "26                Crime|Drama|Mystery|Thriller\n",
       "27                     Biography|Drama|History\n",
       "28                    Action|Adventure|Fantasy\n",
       "29                      Adventure|Drama|Sci-Fi\n",
       "30                      Action|Adventure|Drama\n",
       "31                      Action|Adventure|Drama\n",
       "32                 Biography|Drama|History|War\n",
       "33                     Biography|Drama|History\n",
       "34                    Action|Adventure|Western\n",
       "35                Crime|Drama|Mystery|Thriller\n",
       "36    Action|Adventure|Fantasy|Sci-Fi|Thriller\n",
       "37      Action|Animation|Crime|Sci-Fi|Thriller\n",
       "38            Action|Adventure|Sci-Fi|Thriller\n",
       "39          Comedy|Crime|Drama|Mystery|Romance\n",
       "40                   Action|Adventure|Thriller\n",
       "41                     Action|Adventure|Sci-Fi\n",
       "42                        Comedy|Drama|Romance\n",
       "43                                       Drama\n",
       "44                   Adventure|Sci-Fi|Thriller\n",
       "45                                   Drama|War\n",
       "46                   Action|Drama|Thriller|War\n",
       "47                        Crime|Drama|Thriller\n",
       "48                                       Drama\n",
       "49                     Action|Adventure|Sci-Fi\n",
       "50                                      Comedy\n",
       "51             Action|Adventure|Fantasy|Sci-Fi\n",
       "52                   Action|Adventure|Thriller\n",
       "53                   Action|Adventure|Thriller\n",
       "54                               Drama|Romance\n",
       "55                               Drama|Romance\n",
       "56                       Drama|Horror|Thriller\n",
       "57                      Drama|History|Thriller\n",
       "58             Action|Adventure|Fantasy|Sci-Fi\n",
       "59             Adventure|Drama|Sci-Fi|Thriller\n",
       "60                     Action|Adventure|Sci-Fi\n",
       "61                     Adventure|Drama|History\n",
       "62                     Adventure|Drama|History\n",
       "63                     Adventure|Drama|History\n",
       "64                     Biography|Drama|History\n",
       "65                        Crime|Drama|Thriller\n",
       "66                                 Crime|Drama\n",
       "67                               Drama|Romance\n",
       "68                       Action|Crime|Thriller\n",
       "69                        Crime|Drama|Thriller\n",
       "70                                 Drama|Sport\n",
       "71                    Adventure|Mystery|Sci-Fi\n",
       "72          Action|Biography|Drama|History|War\n",
       "73                       Biography|Drama|Music\n",
       "74                               Drama|Fantasy\n",
       "75                                 Crime|Drama\n",
       "76                              Drama|Thriller\n",
       "77                      Action|Adventure|Drama\n",
       "78                            Mystery|Thriller\n",
       "79                        Crime|Drama|Thriller\n",
       "80            Action|Adventure|Sci-Fi|Thriller\n",
       "81                        Crime|Drama|Thriller\n",
       "82                       Biography|Crime|Drama\n",
       "83                             Adventure|Drama\n",
       "84                            Adventure|Sci-Fi\n",
       "85                   Biography|Drama|Sport|War\n",
       "86                   Biography|Drama|Sport|War\n",
       "87                              Comedy|Western\n",
       "88                     Action|Adventure|Sci-Fi\n",
       "89                    Action|Adventure|Fantasy\n",
       "90                Comedy|Drama|Musical|Romance\n",
       "91                                       Drama\n",
       "92              Action|Biography|Drama|History\n",
       "93                   Action|Adventure|Thriller\n",
       "94                     Biography|Drama|History\n",
       "95                                Comedy|Drama\n",
       "96                    Biography|Drama|Thriller\n",
       "97                            Action|Drama|War\n",
       "98               Biography|Drama|Music|Musical\n",
       "Name: genres, dtype: object"
      ]
     },
     "execution_count": 27,
     "metadata": {},
     "output_type": "execute_result"
    }
   ],
   "source": [
    "pd.set_option('display.max_rows', None)\n",
    "dataset_drop['genres']"
   ]
  },
  {
   "cell_type": "markdown",
   "metadata": {},
   "source": [
    "## Mengecek kolom movie_title"
   ]
  },
  {
   "cell_type": "code",
   "execution_count": 28,
   "metadata": {},
   "outputs": [
    {
     "data": {
      "text/plain": [
       "array(['The Wolf of Wall Street', 'Iron Man 3', 'The Hateful Eight',\n",
       "       'Margaret', 'The Hobbit: The Desolation of Smaug',\n",
       "       'Batman v Superman: Dawn of Justice',\n",
       "       'The Hobbit: An Unexpected Journey', 'Restless', 'The Avengers',\n",
       "       'Cloud Atlas', 'The Girl with the Dragon Tattoo', 'Son of God',\n",
       "       'Interstellar', 'Straight Outta Compton', 'Boyhood',\n",
       "       'Django Unchained', 'Transformers: Age of Extinction',\n",
       "       'The Dark Knight Rises',\n",
       "       'The Hobbit: The Battle of the Five Armies', 'Les Misérables',\n",
       "       'Zero Dark Thirty', 'Robin Hood', 'The Revenant',\n",
       "       'Transformers: Dark of the Moon', 'Prisoners', 'Ramanujan',\n",
       "       'The Amazing Spider-Man', 'The Martian', 'Exodus: Gods and Kings',\n",
       "       'Lincoln', 'Mr. Turner', 'The Lone Ranger', 'Gone Girl',\n",
       "       'X-Men: Days of Future Past',\n",
       "       'Batman: The Dark Knight Returns, Part 2', 'Inception',\n",
       "       'Inherent Vice', 'Spectre', 'Captain America: Civil War',\n",
       "       'Sex and the City 2', 'The Help',\n",
       "       'The Hunger Games: Catching Fire', 'War Horse', '13 Hours',\n",
       "       'Blood Ties', 'The Master', 'X-Men: Apocalypse',\n",
       "       'Anchorman 2: The Legend Continues', 'Man of Steel', 'Skyfall',\n",
       "       'The Great Gatsby', 'The Ridges', 'Bridge of Spies',\n",
       "       'The Amazing Spider-Man 2', 'The Hunger Games',\n",
       "       'Avengers: Age of Ultron', 'Ben-Hur',\n",
       "       'Mandela: Long Walk to Freedom', 'Savages', 'The Judge',\n",
       "       'Eat Pray Love', 'Furious 7', 'The Place Beyond the Pines',\n",
       "       'Warrior', 'Divergent', 'Free State of Jones', 'Get on Up',\n",
       "       'The Tree of Life', 'American Hustle', 'Flight', 'Noah',\n",
       "       'Shutter Island', 'The Counselor', 'The Wolverine', 'Child 44',\n",
       "       'J. Edgar', 'On the Road', 'The Hunger Games: Mockingjay - Part 2',\n",
       "       'Unbroken', 'A Million Ways to Die in the West',\n",
       "       'Captain America: The Winter Soldier',\n",
       "       'Pirates of the Caribbean: On Stranger Tides', 'Rock of Ages',\n",
       "       'Wall Street: Money Never Sleeps', 'Queen of the Mountains',\n",
       "       'The Bourne Legacy', '12 Years a Slave', \"Barney's Version\",\n",
       "       'Captain Phillips', 'Fury', 'Jersey Boys'], dtype=object)"
      ]
     },
     "execution_count": 28,
     "metadata": {},
     "output_type": "execute_result"
    }
   ],
   "source": [
    "dataset_drop['movie_title'].unique()"
   ]
  },
  {
   "cell_type": "code",
   "execution_count": 29,
   "metadata": {},
   "outputs": [
    {
     "data": {
      "text/plain": [
       "0                         The Wolf of Wall Street\n",
       "1                                      Iron Man 3\n",
       "2                               The Hateful Eight\n",
       "3                                        Margaret\n",
       "4             The Hobbit: The Desolation of Smaug\n",
       "5              Batman v Superman: Dawn of Justice\n",
       "6               The Hobbit: An Unexpected Journey\n",
       "7                                        Restless\n",
       "8                                    The Avengers\n",
       "9                                    The Avengers\n",
       "10                                    Cloud Atlas\n",
       "11                The Girl with the Dragon Tattoo\n",
       "12                                     Son of God\n",
       "13                                   Interstellar\n",
       "14                         Straight Outta Compton\n",
       "15                                        Boyhood\n",
       "16                               Django Unchained\n",
       "17                Transformers: Age of Extinction\n",
       "18                          The Dark Knight Rises\n",
       "19      The Hobbit: The Battle of the Five Armies\n",
       "20                                 Les Misérables\n",
       "21                                 Les Misérables\n",
       "22                               Zero Dark Thirty\n",
       "23                                     Robin Hood\n",
       "24                                   The Revenant\n",
       "25                 Transformers: Dark of the Moon\n",
       "26                                      Prisoners\n",
       "27                                      Ramanujan\n",
       "28                         The Amazing Spider-Man\n",
       "29                                    The Martian\n",
       "30                         Exodus: Gods and Kings\n",
       "31                         Exodus: Gods and Kings\n",
       "32                                        Lincoln\n",
       "33                                     Mr. Turner\n",
       "34                                The Lone Ranger\n",
       "35                                      Gone Girl\n",
       "36                     X-Men: Days of Future Past\n",
       "37        Batman: The Dark Knight Returns, Part 2\n",
       "38                                      Inception\n",
       "39                                  Inherent Vice\n",
       "40                                        Spectre\n",
       "41                     Captain America: Civil War\n",
       "42                             Sex and the City 2\n",
       "43                                       The Help\n",
       "44                The Hunger Games: Catching Fire\n",
       "45                                      War Horse\n",
       "46                                       13 Hours\n",
       "47                                     Blood Ties\n",
       "48                                     The Master\n",
       "49                              X-Men: Apocalypse\n",
       "50              Anchorman 2: The Legend Continues\n",
       "51                                   Man of Steel\n",
       "52                                        Skyfall\n",
       "53                                        Skyfall\n",
       "54                               The Great Gatsby\n",
       "55                               The Great Gatsby\n",
       "56                                     The Ridges\n",
       "57                                Bridge of Spies\n",
       "58                       The Amazing Spider-Man 2\n",
       "59                               The Hunger Games\n",
       "60                        Avengers: Age of Ultron\n",
       "61                                        Ben-Hur\n",
       "62                                        Ben-Hur\n",
       "63                                        Ben-Hur\n",
       "64                  Mandela: Long Walk to Freedom\n",
       "65                                        Savages\n",
       "66                                      The Judge\n",
       "67                                  Eat Pray Love\n",
       "68                                      Furious 7\n",
       "69                     The Place Beyond the Pines\n",
       "70                                        Warrior\n",
       "71                                      Divergent\n",
       "72                            Free State of Jones\n",
       "73                                      Get on Up\n",
       "74                               The Tree of Life\n",
       "75                                American Hustle\n",
       "76                                         Flight\n",
       "77                                           Noah\n",
       "78                                 Shutter Island\n",
       "79                                  The Counselor\n",
       "80                                  The Wolverine\n",
       "81                                       Child 44\n",
       "82                                       J. Edgar\n",
       "83                                    On the Road\n",
       "84          The Hunger Games: Mockingjay - Part 2\n",
       "85                                       Unbroken\n",
       "86                                       Unbroken\n",
       "87              A Million Ways to Die in the West\n",
       "88            Captain America: The Winter Soldier\n",
       "89    Pirates of the Caribbean: On Stranger Tides\n",
       "90                                   Rock of Ages\n",
       "91                Wall Street: Money Never Sleeps\n",
       "92                         Queen of the Mountains\n",
       "93                              The Bourne Legacy\n",
       "94                               12 Years a Slave\n",
       "95                               Barney's Version\n",
       "96                               Captain Phillips\n",
       "97                                           Fury\n",
       "98                                    Jersey Boys\n",
       "Name: movie_title, dtype: object"
      ]
     },
     "execution_count": 29,
     "metadata": {},
     "output_type": "execute_result"
    }
   ],
   "source": [
    "pd.set_option('display.max_rows', None)\n",
    "dataset_drop['movie_title']"
   ]
  },
  {
   "cell_type": "markdown",
   "metadata": {},
   "source": [
    "## Mengecek kolom title_year"
   ]
  },
  {
   "cell_type": "code",
   "execution_count": 30,
   "metadata": {},
   "outputs": [
    {
     "data": {
      "application/vnd.plotly.v1+json": {
       "config": {
        "plotlyServerURL": "https://plot.ly"
       },
       "data": [
        {
         "alignmentgroup": "True",
         "hovertemplate": "title_year=%{y}<extra></extra>",
         "legendgroup": "",
         "marker": {
          "color": "#636efa"
         },
         "name": "",
         "notched": false,
         "offsetgroup": "",
         "orientation": "v",
         "showlegend": false,
         "type": "box",
         "x0": " ",
         "xaxis": "x",
         "y": [
          2013,
          2013,
          2015,
          2011,
          2013,
          202,
          2012,
          2012,
          2012,
          2012,
          2012,
          2011,
          2014,
          2014,
          2015,
          2014,
          2012,
          2014,
          2012,
          2014,
          2012,
          2012,
          2012,
          2010,
          2015,
          2011,
          2013,
          2014,
          2012,
          2015,
          2014,
          2014,
          2012,
          2014,
          2013,
          2014,
          2014,
          2013,
          2010,
          2014,
          2015,
          2016,
          2010,
          2011,
          2013,
          2011,
          2016,
          2013,
          2012,
          2016,
          2013,
          2013,
          2012,
          2012,
          2013,
          2013,
          2011,
          2015,
          2014,
          2012,
          2015,
          2016,
          2016,
          2016,
          2013,
          2012,
          2014,
          2010,
          2015,
          2012,
          2011,
          2014,
          2016,
          2014,
          2011,
          2013,
          2012,
          2014,
          2010,
          2013,
          2013,
          205,
          2011,
          2012,
          2015,
          2014,
          2014,
          2014,
          2014,
          2011,
          2012,
          2010,
          2014,
          2012,
          2013,
          2010,
          2013,
          2014,
          2014
         ],
         "y0": " ",
         "yaxis": "y"
        }
       ],
       "layout": {
        "boxmode": "group",
        "legend": {
         "tracegroupgap": 0
        },
        "margin": {
         "t": 60
        },
        "template": {
         "data": {
          "bar": [
           {
            "error_x": {
             "color": "#2a3f5f"
            },
            "error_y": {
             "color": "#2a3f5f"
            },
            "marker": {
             "line": {
              "color": "#E5ECF6",
              "width": 0.5
             },
             "pattern": {
              "fillmode": "overlay",
              "size": 10,
              "solidity": 0.2
             }
            },
            "type": "bar"
           }
          ],
          "barpolar": [
           {
            "marker": {
             "line": {
              "color": "#E5ECF6",
              "width": 0.5
             },
             "pattern": {
              "fillmode": "overlay",
              "size": 10,
              "solidity": 0.2
             }
            },
            "type": "barpolar"
           }
          ],
          "carpet": [
           {
            "aaxis": {
             "endlinecolor": "#2a3f5f",
             "gridcolor": "white",
             "linecolor": "white",
             "minorgridcolor": "white",
             "startlinecolor": "#2a3f5f"
            },
            "baxis": {
             "endlinecolor": "#2a3f5f",
             "gridcolor": "white",
             "linecolor": "white",
             "minorgridcolor": "white",
             "startlinecolor": "#2a3f5f"
            },
            "type": "carpet"
           }
          ],
          "choropleth": [
           {
            "colorbar": {
             "outlinewidth": 0,
             "ticks": ""
            },
            "type": "choropleth"
           }
          ],
          "contour": [
           {
            "colorbar": {
             "outlinewidth": 0,
             "ticks": ""
            },
            "colorscale": [
             [
              0,
              "#0d0887"
             ],
             [
              0.1111111111111111,
              "#46039f"
             ],
             [
              0.2222222222222222,
              "#7201a8"
             ],
             [
              0.3333333333333333,
              "#9c179e"
             ],
             [
              0.4444444444444444,
              "#bd3786"
             ],
             [
              0.5555555555555556,
              "#d8576b"
             ],
             [
              0.6666666666666666,
              "#ed7953"
             ],
             [
              0.7777777777777778,
              "#fb9f3a"
             ],
             [
              0.8888888888888888,
              "#fdca26"
             ],
             [
              1,
              "#f0f921"
             ]
            ],
            "type": "contour"
           }
          ],
          "contourcarpet": [
           {
            "colorbar": {
             "outlinewidth": 0,
             "ticks": ""
            },
            "type": "contourcarpet"
           }
          ],
          "heatmap": [
           {
            "colorbar": {
             "outlinewidth": 0,
             "ticks": ""
            },
            "colorscale": [
             [
              0,
              "#0d0887"
             ],
             [
              0.1111111111111111,
              "#46039f"
             ],
             [
              0.2222222222222222,
              "#7201a8"
             ],
             [
              0.3333333333333333,
              "#9c179e"
             ],
             [
              0.4444444444444444,
              "#bd3786"
             ],
             [
              0.5555555555555556,
              "#d8576b"
             ],
             [
              0.6666666666666666,
              "#ed7953"
             ],
             [
              0.7777777777777778,
              "#fb9f3a"
             ],
             [
              0.8888888888888888,
              "#fdca26"
             ],
             [
              1,
              "#f0f921"
             ]
            ],
            "type": "heatmap"
           }
          ],
          "heatmapgl": [
           {
            "colorbar": {
             "outlinewidth": 0,
             "ticks": ""
            },
            "colorscale": [
             [
              0,
              "#0d0887"
             ],
             [
              0.1111111111111111,
              "#46039f"
             ],
             [
              0.2222222222222222,
              "#7201a8"
             ],
             [
              0.3333333333333333,
              "#9c179e"
             ],
             [
              0.4444444444444444,
              "#bd3786"
             ],
             [
              0.5555555555555556,
              "#d8576b"
             ],
             [
              0.6666666666666666,
              "#ed7953"
             ],
             [
              0.7777777777777778,
              "#fb9f3a"
             ],
             [
              0.8888888888888888,
              "#fdca26"
             ],
             [
              1,
              "#f0f921"
             ]
            ],
            "type": "heatmapgl"
           }
          ],
          "histogram": [
           {
            "marker": {
             "pattern": {
              "fillmode": "overlay",
              "size": 10,
              "solidity": 0.2
             }
            },
            "type": "histogram"
           }
          ],
          "histogram2d": [
           {
            "colorbar": {
             "outlinewidth": 0,
             "ticks": ""
            },
            "colorscale": [
             [
              0,
              "#0d0887"
             ],
             [
              0.1111111111111111,
              "#46039f"
             ],
             [
              0.2222222222222222,
              "#7201a8"
             ],
             [
              0.3333333333333333,
              "#9c179e"
             ],
             [
              0.4444444444444444,
              "#bd3786"
             ],
             [
              0.5555555555555556,
              "#d8576b"
             ],
             [
              0.6666666666666666,
              "#ed7953"
             ],
             [
              0.7777777777777778,
              "#fb9f3a"
             ],
             [
              0.8888888888888888,
              "#fdca26"
             ],
             [
              1,
              "#f0f921"
             ]
            ],
            "type": "histogram2d"
           }
          ],
          "histogram2dcontour": [
           {
            "colorbar": {
             "outlinewidth": 0,
             "ticks": ""
            },
            "colorscale": [
             [
              0,
              "#0d0887"
             ],
             [
              0.1111111111111111,
              "#46039f"
             ],
             [
              0.2222222222222222,
              "#7201a8"
             ],
             [
              0.3333333333333333,
              "#9c179e"
             ],
             [
              0.4444444444444444,
              "#bd3786"
             ],
             [
              0.5555555555555556,
              "#d8576b"
             ],
             [
              0.6666666666666666,
              "#ed7953"
             ],
             [
              0.7777777777777778,
              "#fb9f3a"
             ],
             [
              0.8888888888888888,
              "#fdca26"
             ],
             [
              1,
              "#f0f921"
             ]
            ],
            "type": "histogram2dcontour"
           }
          ],
          "mesh3d": [
           {
            "colorbar": {
             "outlinewidth": 0,
             "ticks": ""
            },
            "type": "mesh3d"
           }
          ],
          "parcoords": [
           {
            "line": {
             "colorbar": {
              "outlinewidth": 0,
              "ticks": ""
             }
            },
            "type": "parcoords"
           }
          ],
          "pie": [
           {
            "automargin": true,
            "type": "pie"
           }
          ],
          "scatter": [
           {
            "fillpattern": {
             "fillmode": "overlay",
             "size": 10,
             "solidity": 0.2
            },
            "type": "scatter"
           }
          ],
          "scatter3d": [
           {
            "line": {
             "colorbar": {
              "outlinewidth": 0,
              "ticks": ""
             }
            },
            "marker": {
             "colorbar": {
              "outlinewidth": 0,
              "ticks": ""
             }
            },
            "type": "scatter3d"
           }
          ],
          "scattercarpet": [
           {
            "marker": {
             "colorbar": {
              "outlinewidth": 0,
              "ticks": ""
             }
            },
            "type": "scattercarpet"
           }
          ],
          "scattergeo": [
           {
            "marker": {
             "colorbar": {
              "outlinewidth": 0,
              "ticks": ""
             }
            },
            "type": "scattergeo"
           }
          ],
          "scattergl": [
           {
            "marker": {
             "colorbar": {
              "outlinewidth": 0,
              "ticks": ""
             }
            },
            "type": "scattergl"
           }
          ],
          "scattermapbox": [
           {
            "marker": {
             "colorbar": {
              "outlinewidth": 0,
              "ticks": ""
             }
            },
            "type": "scattermapbox"
           }
          ],
          "scatterpolar": [
           {
            "marker": {
             "colorbar": {
              "outlinewidth": 0,
              "ticks": ""
             }
            },
            "type": "scatterpolar"
           }
          ],
          "scatterpolargl": [
           {
            "marker": {
             "colorbar": {
              "outlinewidth": 0,
              "ticks": ""
             }
            },
            "type": "scatterpolargl"
           }
          ],
          "scatterternary": [
           {
            "marker": {
             "colorbar": {
              "outlinewidth": 0,
              "ticks": ""
             }
            },
            "type": "scatterternary"
           }
          ],
          "surface": [
           {
            "colorbar": {
             "outlinewidth": 0,
             "ticks": ""
            },
            "colorscale": [
             [
              0,
              "#0d0887"
             ],
             [
              0.1111111111111111,
              "#46039f"
             ],
             [
              0.2222222222222222,
              "#7201a8"
             ],
             [
              0.3333333333333333,
              "#9c179e"
             ],
             [
              0.4444444444444444,
              "#bd3786"
             ],
             [
              0.5555555555555556,
              "#d8576b"
             ],
             [
              0.6666666666666666,
              "#ed7953"
             ],
             [
              0.7777777777777778,
              "#fb9f3a"
             ],
             [
              0.8888888888888888,
              "#fdca26"
             ],
             [
              1,
              "#f0f921"
             ]
            ],
            "type": "surface"
           }
          ],
          "table": [
           {
            "cells": {
             "fill": {
              "color": "#EBF0F8"
             },
             "line": {
              "color": "white"
             }
            },
            "header": {
             "fill": {
              "color": "#C8D4E3"
             },
             "line": {
              "color": "white"
             }
            },
            "type": "table"
           }
          ]
         },
         "layout": {
          "annotationdefaults": {
           "arrowcolor": "#2a3f5f",
           "arrowhead": 0,
           "arrowwidth": 1
          },
          "autotypenumbers": "strict",
          "coloraxis": {
           "colorbar": {
            "outlinewidth": 0,
            "ticks": ""
           }
          },
          "colorscale": {
           "diverging": [
            [
             0,
             "#8e0152"
            ],
            [
             0.1,
             "#c51b7d"
            ],
            [
             0.2,
             "#de77ae"
            ],
            [
             0.3,
             "#f1b6da"
            ],
            [
             0.4,
             "#fde0ef"
            ],
            [
             0.5,
             "#f7f7f7"
            ],
            [
             0.6,
             "#e6f5d0"
            ],
            [
             0.7,
             "#b8e186"
            ],
            [
             0.8,
             "#7fbc41"
            ],
            [
             0.9,
             "#4d9221"
            ],
            [
             1,
             "#276419"
            ]
           ],
           "sequential": [
            [
             0,
             "#0d0887"
            ],
            [
             0.1111111111111111,
             "#46039f"
            ],
            [
             0.2222222222222222,
             "#7201a8"
            ],
            [
             0.3333333333333333,
             "#9c179e"
            ],
            [
             0.4444444444444444,
             "#bd3786"
            ],
            [
             0.5555555555555556,
             "#d8576b"
            ],
            [
             0.6666666666666666,
             "#ed7953"
            ],
            [
             0.7777777777777778,
             "#fb9f3a"
            ],
            [
             0.8888888888888888,
             "#fdca26"
            ],
            [
             1,
             "#f0f921"
            ]
           ],
           "sequentialminus": [
            [
             0,
             "#0d0887"
            ],
            [
             0.1111111111111111,
             "#46039f"
            ],
            [
             0.2222222222222222,
             "#7201a8"
            ],
            [
             0.3333333333333333,
             "#9c179e"
            ],
            [
             0.4444444444444444,
             "#bd3786"
            ],
            [
             0.5555555555555556,
             "#d8576b"
            ],
            [
             0.6666666666666666,
             "#ed7953"
            ],
            [
             0.7777777777777778,
             "#fb9f3a"
            ],
            [
             0.8888888888888888,
             "#fdca26"
            ],
            [
             1,
             "#f0f921"
            ]
           ]
          },
          "colorway": [
           "#636efa",
           "#EF553B",
           "#00cc96",
           "#ab63fa",
           "#FFA15A",
           "#19d3f3",
           "#FF6692",
           "#B6E880",
           "#FF97FF",
           "#FECB52"
          ],
          "font": {
           "color": "#2a3f5f"
          },
          "geo": {
           "bgcolor": "white",
           "lakecolor": "white",
           "landcolor": "#E5ECF6",
           "showlakes": true,
           "showland": true,
           "subunitcolor": "white"
          },
          "hoverlabel": {
           "align": "left"
          },
          "hovermode": "closest",
          "mapbox": {
           "style": "light"
          },
          "paper_bgcolor": "white",
          "plot_bgcolor": "#E5ECF6",
          "polar": {
           "angularaxis": {
            "gridcolor": "white",
            "linecolor": "white",
            "ticks": ""
           },
           "bgcolor": "#E5ECF6",
           "radialaxis": {
            "gridcolor": "white",
            "linecolor": "white",
            "ticks": ""
           }
          },
          "scene": {
           "xaxis": {
            "backgroundcolor": "#E5ECF6",
            "gridcolor": "white",
            "gridwidth": 2,
            "linecolor": "white",
            "showbackground": true,
            "ticks": "",
            "zerolinecolor": "white"
           },
           "yaxis": {
            "backgroundcolor": "#E5ECF6",
            "gridcolor": "white",
            "gridwidth": 2,
            "linecolor": "white",
            "showbackground": true,
            "ticks": "",
            "zerolinecolor": "white"
           },
           "zaxis": {
            "backgroundcolor": "#E5ECF6",
            "gridcolor": "white",
            "gridwidth": 2,
            "linecolor": "white",
            "showbackground": true,
            "ticks": "",
            "zerolinecolor": "white"
           }
          },
          "shapedefaults": {
           "line": {
            "color": "#2a3f5f"
           }
          },
          "ternary": {
           "aaxis": {
            "gridcolor": "white",
            "linecolor": "white",
            "ticks": ""
           },
           "baxis": {
            "gridcolor": "white",
            "linecolor": "white",
            "ticks": ""
           },
           "bgcolor": "#E5ECF6",
           "caxis": {
            "gridcolor": "white",
            "linecolor": "white",
            "ticks": ""
           }
          },
          "title": {
           "x": 0.05
          },
          "xaxis": {
           "automargin": true,
           "gridcolor": "white",
           "linecolor": "white",
           "ticks": "",
           "title": {
            "standoff": 15
           },
           "zerolinecolor": "white",
           "zerolinewidth": 2
          },
          "yaxis": {
           "automargin": true,
           "gridcolor": "white",
           "linecolor": "white",
           "ticks": "",
           "title": {
            "standoff": 15
           },
           "zerolinecolor": "white",
           "zerolinewidth": 2
          }
         }
        },
        "xaxis": {
         "anchor": "y",
         "domain": [
          0,
          1
         ]
        },
        "yaxis": {
         "anchor": "x",
         "domain": [
          0,
          1
         ],
         "title": {
          "text": "title_year"
         }
        }
       }
      }
     },
     "metadata": {},
     "output_type": "display_data"
    }
   ],
   "source": [
    "fig = px.box(dataset_drop, y='title_year')\n",
    "fig.show()"
   ]
  },
  {
   "cell_type": "code",
   "execution_count": 31,
   "metadata": {},
   "outputs": [
    {
     "data": {
      "text/plain": [
       "array([2013, 2015, 2011,  202, 2012, 2014, 2010, 2016,  205], dtype=int64)"
      ]
     },
     "execution_count": 31,
     "metadata": {},
     "output_type": "execute_result"
    }
   ],
   "source": [
    "dataset_drop['title_year'].unique()"
   ]
  },
  {
   "cell_type": "code",
   "execution_count": 32,
   "metadata": {},
   "outputs": [],
   "source": [
    "# Terdapat value yang aneh yaitu 202 dan 205, kita asumsikan ini adalah typo. Seharusnya adalah 2002 dan 2005\n",
    "## oleh karena itu kita akan ganti value yang aneh tersebut\n",
    "dataset_drop['title_year'].replace({202:2002,205:2005}, inplace=True)\n"
   ]
  },
  {
   "cell_type": "code",
   "execution_count": 33,
   "metadata": {},
   "outputs": [
    {
     "data": {
      "text/plain": [
       "array([2013, 2015, 2011, 2002, 2012, 2014, 2010, 2016, 2005], dtype=int64)"
      ]
     },
     "execution_count": 33,
     "metadata": {},
     "output_type": "execute_result"
    }
   ],
   "source": [
    "dataset_drop['title_year'].unique()"
   ]
  },
  {
   "cell_type": "markdown",
   "metadata": {},
   "source": [
    "## Mengecek kolom language"
   ]
  },
  {
   "cell_type": "code",
   "execution_count": 34,
   "metadata": {},
   "outputs": [
    {
     "data": {
      "text/plain": [
       "array(['English'], dtype=object)"
      ]
     },
     "execution_count": 34,
     "metadata": {},
     "output_type": "execute_result"
    }
   ],
   "source": [
    "dataset_drop['language'].unique()"
   ]
  },
  {
   "cell_type": "markdown",
   "metadata": {},
   "source": [
    "## Mengecek kolom country"
   ]
  },
  {
   "cell_type": "code",
   "execution_count": 35,
   "metadata": {},
   "outputs": [
    {
     "data": {
      "text/plain": [
       "array(['USA', 'usa', 'UK', 'Germany', 'New Zealand', 'India',\n",
       "       'United States', 'France', 'Australia', 'Czech Republic',\n",
       "       'Kyrgyzstan', 'Canada'], dtype=object)"
      ]
     },
     "execution_count": 35,
     "metadata": {},
     "output_type": "execute_result"
    }
   ],
   "source": [
    "dataset_drop['country'].unique()"
   ]
  },
  {
   "cell_type": "code",
   "execution_count": 37,
   "metadata": {},
   "outputs": [],
   "source": [
    "# Untuk USA, usa dan United States harus digabungkan. Disini saya memilih untuk merubah semuanya ke USA\n",
    "dataset_drop['country'] = dataset_drop['country'].str.upper()"
   ]
  },
  {
   "cell_type": "code",
   "execution_count": 38,
   "metadata": {},
   "outputs": [
    {
     "data": {
      "text/plain": [
       "array(['USA', 'UK', 'GERMANY', 'NEW ZEALAND', 'INDIA', 'UNITED STATES',\n",
       "       'FRANCE', 'AUSTRALIA', 'CZECH REPUBLIC', 'KYRGYZSTAN', 'CANADA'],\n",
       "      dtype=object)"
      ]
     },
     "execution_count": 38,
     "metadata": {},
     "output_type": "execute_result"
    }
   ],
   "source": [
    "dataset_drop['country'].unique()"
   ]
  },
  {
   "cell_type": "code",
   "execution_count": 40,
   "metadata": {},
   "outputs": [],
   "source": [
    "dataset_drop['country'].replace({'UNITED STATES':'USA'}, inplace=True)"
   ]
  },
  {
   "cell_type": "code",
   "execution_count": 41,
   "metadata": {},
   "outputs": [
    {
     "data": {
      "text/plain": [
       "array(['USA', 'UK', 'GERMANY', 'NEW ZEALAND', 'INDIA', 'FRANCE',\n",
       "       'AUSTRALIA', 'CZECH REPUBLIC', 'KYRGYZSTAN', 'CANADA'],\n",
       "      dtype=object)"
      ]
     },
     "execution_count": 41,
     "metadata": {},
     "output_type": "execute_result"
    }
   ],
   "source": [
    "dataset_drop['country'].unique()"
   ]
  },
  {
   "cell_type": "markdown",
   "metadata": {},
   "source": [
    "## Mengecek kolom budget"
   ]
  },
  {
   "cell_type": "code",
   "execution_count": 42,
   "metadata": {},
   "outputs": [
    {
     "data": {
      "text/plain": [
       "array([1.000e+08, 2.000e+08, 4.400e+07, 1.400e+07, 2.250e+08, 2.500e+08,\n",
       "       1.800e+08,       nan, 2.200e+08, 1.020e+08, 9.000e+07, 2.200e+07,\n",
       "       1.650e+08, 2.800e+07, 4.000e+06, 2.100e+08, 6.100e+07, 4.000e+07,\n",
       "       1.350e+08, 1.950e+08, 4.600e+07, 2.300e+08, 1.080e+08, 1.400e+08,\n",
       "       6.500e+07, 2.150e+08, 3.500e+06, 1.600e+08, 2.000e+07, 2.450e+08,\n",
       "       2.500e+07, 1.300e+08, 6.600e+07, 5.000e+07, 2.550e+07, 3.200e+07,\n",
       "       1.780e+08, 1.050e+08, 1.735e+04, 7.800e+07, 3.500e+07, 4.500e+07,\n",
       "       6.000e+07, 1.900e+08, 1.500e+07, 8.500e+07, 3.000e+07, 3.100e+07,\n",
       "       1.250e+08, 8.000e+07, 1.200e+08, 1.700e+08, 7.500e+07, 7.000e+07,\n",
       "       1.400e+06, 5.500e+07, 6.800e+07])"
      ]
     },
     "execution_count": 42,
     "metadata": {},
     "output_type": "execute_result"
    }
   ],
   "source": [
    "dataset_drop['budget'].unique()"
   ]
  },
  {
   "cell_type": "code",
   "execution_count": 43,
   "metadata": {},
   "outputs": [],
   "source": [
    "dataset_drop['budget'].fillna(0, inplace=True)"
   ]
  },
  {
   "cell_type": "code",
   "execution_count": 44,
   "metadata": {},
   "outputs": [
    {
     "data": {
      "text/plain": [
       "array([1.000e+08, 2.000e+08, 4.400e+07, 1.400e+07, 2.250e+08, 2.500e+08,\n",
       "       1.800e+08, 0.000e+00, 2.200e+08, 1.020e+08, 9.000e+07, 2.200e+07,\n",
       "       1.650e+08, 2.800e+07, 4.000e+06, 2.100e+08, 6.100e+07, 4.000e+07,\n",
       "       1.350e+08, 1.950e+08, 4.600e+07, 2.300e+08, 1.080e+08, 1.400e+08,\n",
       "       6.500e+07, 2.150e+08, 3.500e+06, 1.600e+08, 2.000e+07, 2.450e+08,\n",
       "       2.500e+07, 1.300e+08, 6.600e+07, 5.000e+07, 2.550e+07, 3.200e+07,\n",
       "       1.780e+08, 1.050e+08, 1.735e+04, 7.800e+07, 3.500e+07, 4.500e+07,\n",
       "       6.000e+07, 1.900e+08, 1.500e+07, 8.500e+07, 3.000e+07, 3.100e+07,\n",
       "       1.250e+08, 8.000e+07, 1.200e+08, 1.700e+08, 7.500e+07, 7.000e+07,\n",
       "       1.400e+06, 5.500e+07, 6.800e+07])"
      ]
     },
     "execution_count": 44,
     "metadata": {},
     "output_type": "execute_result"
    }
   ],
   "source": [
    "dataset_drop['budget'].unique()"
   ]
  },
  {
   "cell_type": "code",
   "execution_count": 46,
   "metadata": {},
   "outputs": [
    {
     "data": {
      "application/vnd.plotly.v1+json": {
       "config": {
        "plotlyServerURL": "https://plot.ly"
       },
       "data": [
        {
         "alignmentgroup": "True",
         "hovertemplate": "budget=%{y}<extra></extra>",
         "legendgroup": "",
         "marker": {
          "color": "#636efa"
         },
         "name": "",
         "notched": false,
         "offsetgroup": "",
         "orientation": "v",
         "showlegend": false,
         "type": "box",
         "x0": " ",
         "xaxis": "x",
         "y": [
          100000000,
          200000000,
          44000000,
          14000000,
          225000000,
          250000000,
          180000000,
          0,
          220000000,
          220000000,
          102000000,
          90000000,
          22000000,
          165000000,
          28000000,
          4000000,
          100000000,
          210000000,
          250000000,
          250000000,
          61000000,
          61000000,
          40000000,
          200000000,
          135000000,
          195000000,
          46000000,
          0,
          230000000,
          108000000,
          140000000,
          140000000,
          65000000,
          0,
          215000000,
          61000000,
          200000000,
          3500000,
          160000000,
          20000000,
          245000000,
          250000000,
          100000000,
          25000000,
          130000000,
          66000000,
          50000000,
          25500000,
          32000000,
          178000000,
          50000000,
          225000000,
          200000000,
          200000000,
          105000000,
          105000000,
          17350,
          40000000,
          200000000,
          78000000,
          250000000,
          100000000,
          100000000,
          100000000,
          35000000,
          45000000,
          50000000,
          60000000,
          190000000,
          15000000,
          25000000,
          85000000,
          50000000,
          30000000,
          32000000,
          40000000,
          31000000,
          125000000,
          80000000,
          25000000,
          120000000,
          50000000,
          35000000,
          25000000,
          160000000,
          65000000,
          65000000,
          40000000,
          170000000,
          250000000,
          75000000,
          70000000,
          1400000,
          125000000,
          20000000,
          0,
          55000000,
          68000000,
          40000000
         ],
         "y0": " ",
         "yaxis": "y"
        }
       ],
       "layout": {
        "boxmode": "group",
        "legend": {
         "tracegroupgap": 0
        },
        "margin": {
         "t": 60
        },
        "template": {
         "data": {
          "bar": [
           {
            "error_x": {
             "color": "#2a3f5f"
            },
            "error_y": {
             "color": "#2a3f5f"
            },
            "marker": {
             "line": {
              "color": "#E5ECF6",
              "width": 0.5
             },
             "pattern": {
              "fillmode": "overlay",
              "size": 10,
              "solidity": 0.2
             }
            },
            "type": "bar"
           }
          ],
          "barpolar": [
           {
            "marker": {
             "line": {
              "color": "#E5ECF6",
              "width": 0.5
             },
             "pattern": {
              "fillmode": "overlay",
              "size": 10,
              "solidity": 0.2
             }
            },
            "type": "barpolar"
           }
          ],
          "carpet": [
           {
            "aaxis": {
             "endlinecolor": "#2a3f5f",
             "gridcolor": "white",
             "linecolor": "white",
             "minorgridcolor": "white",
             "startlinecolor": "#2a3f5f"
            },
            "baxis": {
             "endlinecolor": "#2a3f5f",
             "gridcolor": "white",
             "linecolor": "white",
             "minorgridcolor": "white",
             "startlinecolor": "#2a3f5f"
            },
            "type": "carpet"
           }
          ],
          "choropleth": [
           {
            "colorbar": {
             "outlinewidth": 0,
             "ticks": ""
            },
            "type": "choropleth"
           }
          ],
          "contour": [
           {
            "colorbar": {
             "outlinewidth": 0,
             "ticks": ""
            },
            "colorscale": [
             [
              0,
              "#0d0887"
             ],
             [
              0.1111111111111111,
              "#46039f"
             ],
             [
              0.2222222222222222,
              "#7201a8"
             ],
             [
              0.3333333333333333,
              "#9c179e"
             ],
             [
              0.4444444444444444,
              "#bd3786"
             ],
             [
              0.5555555555555556,
              "#d8576b"
             ],
             [
              0.6666666666666666,
              "#ed7953"
             ],
             [
              0.7777777777777778,
              "#fb9f3a"
             ],
             [
              0.8888888888888888,
              "#fdca26"
             ],
             [
              1,
              "#f0f921"
             ]
            ],
            "type": "contour"
           }
          ],
          "contourcarpet": [
           {
            "colorbar": {
             "outlinewidth": 0,
             "ticks": ""
            },
            "type": "contourcarpet"
           }
          ],
          "heatmap": [
           {
            "colorbar": {
             "outlinewidth": 0,
             "ticks": ""
            },
            "colorscale": [
             [
              0,
              "#0d0887"
             ],
             [
              0.1111111111111111,
              "#46039f"
             ],
             [
              0.2222222222222222,
              "#7201a8"
             ],
             [
              0.3333333333333333,
              "#9c179e"
             ],
             [
              0.4444444444444444,
              "#bd3786"
             ],
             [
              0.5555555555555556,
              "#d8576b"
             ],
             [
              0.6666666666666666,
              "#ed7953"
             ],
             [
              0.7777777777777778,
              "#fb9f3a"
             ],
             [
              0.8888888888888888,
              "#fdca26"
             ],
             [
              1,
              "#f0f921"
             ]
            ],
            "type": "heatmap"
           }
          ],
          "heatmapgl": [
           {
            "colorbar": {
             "outlinewidth": 0,
             "ticks": ""
            },
            "colorscale": [
             [
              0,
              "#0d0887"
             ],
             [
              0.1111111111111111,
              "#46039f"
             ],
             [
              0.2222222222222222,
              "#7201a8"
             ],
             [
              0.3333333333333333,
              "#9c179e"
             ],
             [
              0.4444444444444444,
              "#bd3786"
             ],
             [
              0.5555555555555556,
              "#d8576b"
             ],
             [
              0.6666666666666666,
              "#ed7953"
             ],
             [
              0.7777777777777778,
              "#fb9f3a"
             ],
             [
              0.8888888888888888,
              "#fdca26"
             ],
             [
              1,
              "#f0f921"
             ]
            ],
            "type": "heatmapgl"
           }
          ],
          "histogram": [
           {
            "marker": {
             "pattern": {
              "fillmode": "overlay",
              "size": 10,
              "solidity": 0.2
             }
            },
            "type": "histogram"
           }
          ],
          "histogram2d": [
           {
            "colorbar": {
             "outlinewidth": 0,
             "ticks": ""
            },
            "colorscale": [
             [
              0,
              "#0d0887"
             ],
             [
              0.1111111111111111,
              "#46039f"
             ],
             [
              0.2222222222222222,
              "#7201a8"
             ],
             [
              0.3333333333333333,
              "#9c179e"
             ],
             [
              0.4444444444444444,
              "#bd3786"
             ],
             [
              0.5555555555555556,
              "#d8576b"
             ],
             [
              0.6666666666666666,
              "#ed7953"
             ],
             [
              0.7777777777777778,
              "#fb9f3a"
             ],
             [
              0.8888888888888888,
              "#fdca26"
             ],
             [
              1,
              "#f0f921"
             ]
            ],
            "type": "histogram2d"
           }
          ],
          "histogram2dcontour": [
           {
            "colorbar": {
             "outlinewidth": 0,
             "ticks": ""
            },
            "colorscale": [
             [
              0,
              "#0d0887"
             ],
             [
              0.1111111111111111,
              "#46039f"
             ],
             [
              0.2222222222222222,
              "#7201a8"
             ],
             [
              0.3333333333333333,
              "#9c179e"
             ],
             [
              0.4444444444444444,
              "#bd3786"
             ],
             [
              0.5555555555555556,
              "#d8576b"
             ],
             [
              0.6666666666666666,
              "#ed7953"
             ],
             [
              0.7777777777777778,
              "#fb9f3a"
             ],
             [
              0.8888888888888888,
              "#fdca26"
             ],
             [
              1,
              "#f0f921"
             ]
            ],
            "type": "histogram2dcontour"
           }
          ],
          "mesh3d": [
           {
            "colorbar": {
             "outlinewidth": 0,
             "ticks": ""
            },
            "type": "mesh3d"
           }
          ],
          "parcoords": [
           {
            "line": {
             "colorbar": {
              "outlinewidth": 0,
              "ticks": ""
             }
            },
            "type": "parcoords"
           }
          ],
          "pie": [
           {
            "automargin": true,
            "type": "pie"
           }
          ],
          "scatter": [
           {
            "fillpattern": {
             "fillmode": "overlay",
             "size": 10,
             "solidity": 0.2
            },
            "type": "scatter"
           }
          ],
          "scatter3d": [
           {
            "line": {
             "colorbar": {
              "outlinewidth": 0,
              "ticks": ""
             }
            },
            "marker": {
             "colorbar": {
              "outlinewidth": 0,
              "ticks": ""
             }
            },
            "type": "scatter3d"
           }
          ],
          "scattercarpet": [
           {
            "marker": {
             "colorbar": {
              "outlinewidth": 0,
              "ticks": ""
             }
            },
            "type": "scattercarpet"
           }
          ],
          "scattergeo": [
           {
            "marker": {
             "colorbar": {
              "outlinewidth": 0,
              "ticks": ""
             }
            },
            "type": "scattergeo"
           }
          ],
          "scattergl": [
           {
            "marker": {
             "colorbar": {
              "outlinewidth": 0,
              "ticks": ""
             }
            },
            "type": "scattergl"
           }
          ],
          "scattermapbox": [
           {
            "marker": {
             "colorbar": {
              "outlinewidth": 0,
              "ticks": ""
             }
            },
            "type": "scattermapbox"
           }
          ],
          "scatterpolar": [
           {
            "marker": {
             "colorbar": {
              "outlinewidth": 0,
              "ticks": ""
             }
            },
            "type": "scatterpolar"
           }
          ],
          "scatterpolargl": [
           {
            "marker": {
             "colorbar": {
              "outlinewidth": 0,
              "ticks": ""
             }
            },
            "type": "scatterpolargl"
           }
          ],
          "scatterternary": [
           {
            "marker": {
             "colorbar": {
              "outlinewidth": 0,
              "ticks": ""
             }
            },
            "type": "scatterternary"
           }
          ],
          "surface": [
           {
            "colorbar": {
             "outlinewidth": 0,
             "ticks": ""
            },
            "colorscale": [
             [
              0,
              "#0d0887"
             ],
             [
              0.1111111111111111,
              "#46039f"
             ],
             [
              0.2222222222222222,
              "#7201a8"
             ],
             [
              0.3333333333333333,
              "#9c179e"
             ],
             [
              0.4444444444444444,
              "#bd3786"
             ],
             [
              0.5555555555555556,
              "#d8576b"
             ],
             [
              0.6666666666666666,
              "#ed7953"
             ],
             [
              0.7777777777777778,
              "#fb9f3a"
             ],
             [
              0.8888888888888888,
              "#fdca26"
             ],
             [
              1,
              "#f0f921"
             ]
            ],
            "type": "surface"
           }
          ],
          "table": [
           {
            "cells": {
             "fill": {
              "color": "#EBF0F8"
             },
             "line": {
              "color": "white"
             }
            },
            "header": {
             "fill": {
              "color": "#C8D4E3"
             },
             "line": {
              "color": "white"
             }
            },
            "type": "table"
           }
          ]
         },
         "layout": {
          "annotationdefaults": {
           "arrowcolor": "#2a3f5f",
           "arrowhead": 0,
           "arrowwidth": 1
          },
          "autotypenumbers": "strict",
          "coloraxis": {
           "colorbar": {
            "outlinewidth": 0,
            "ticks": ""
           }
          },
          "colorscale": {
           "diverging": [
            [
             0,
             "#8e0152"
            ],
            [
             0.1,
             "#c51b7d"
            ],
            [
             0.2,
             "#de77ae"
            ],
            [
             0.3,
             "#f1b6da"
            ],
            [
             0.4,
             "#fde0ef"
            ],
            [
             0.5,
             "#f7f7f7"
            ],
            [
             0.6,
             "#e6f5d0"
            ],
            [
             0.7,
             "#b8e186"
            ],
            [
             0.8,
             "#7fbc41"
            ],
            [
             0.9,
             "#4d9221"
            ],
            [
             1,
             "#276419"
            ]
           ],
           "sequential": [
            [
             0,
             "#0d0887"
            ],
            [
             0.1111111111111111,
             "#46039f"
            ],
            [
             0.2222222222222222,
             "#7201a8"
            ],
            [
             0.3333333333333333,
             "#9c179e"
            ],
            [
             0.4444444444444444,
             "#bd3786"
            ],
            [
             0.5555555555555556,
             "#d8576b"
            ],
            [
             0.6666666666666666,
             "#ed7953"
            ],
            [
             0.7777777777777778,
             "#fb9f3a"
            ],
            [
             0.8888888888888888,
             "#fdca26"
            ],
            [
             1,
             "#f0f921"
            ]
           ],
           "sequentialminus": [
            [
             0,
             "#0d0887"
            ],
            [
             0.1111111111111111,
             "#46039f"
            ],
            [
             0.2222222222222222,
             "#7201a8"
            ],
            [
             0.3333333333333333,
             "#9c179e"
            ],
            [
             0.4444444444444444,
             "#bd3786"
            ],
            [
             0.5555555555555556,
             "#d8576b"
            ],
            [
             0.6666666666666666,
             "#ed7953"
            ],
            [
             0.7777777777777778,
             "#fb9f3a"
            ],
            [
             0.8888888888888888,
             "#fdca26"
            ],
            [
             1,
             "#f0f921"
            ]
           ]
          },
          "colorway": [
           "#636efa",
           "#EF553B",
           "#00cc96",
           "#ab63fa",
           "#FFA15A",
           "#19d3f3",
           "#FF6692",
           "#B6E880",
           "#FF97FF",
           "#FECB52"
          ],
          "font": {
           "color": "#2a3f5f"
          },
          "geo": {
           "bgcolor": "white",
           "lakecolor": "white",
           "landcolor": "#E5ECF6",
           "showlakes": true,
           "showland": true,
           "subunitcolor": "white"
          },
          "hoverlabel": {
           "align": "left"
          },
          "hovermode": "closest",
          "mapbox": {
           "style": "light"
          },
          "paper_bgcolor": "white",
          "plot_bgcolor": "#E5ECF6",
          "polar": {
           "angularaxis": {
            "gridcolor": "white",
            "linecolor": "white",
            "ticks": ""
           },
           "bgcolor": "#E5ECF6",
           "radialaxis": {
            "gridcolor": "white",
            "linecolor": "white",
            "ticks": ""
           }
          },
          "scene": {
           "xaxis": {
            "backgroundcolor": "#E5ECF6",
            "gridcolor": "white",
            "gridwidth": 2,
            "linecolor": "white",
            "showbackground": true,
            "ticks": "",
            "zerolinecolor": "white"
           },
           "yaxis": {
            "backgroundcolor": "#E5ECF6",
            "gridcolor": "white",
            "gridwidth": 2,
            "linecolor": "white",
            "showbackground": true,
            "ticks": "",
            "zerolinecolor": "white"
           },
           "zaxis": {
            "backgroundcolor": "#E5ECF6",
            "gridcolor": "white",
            "gridwidth": 2,
            "linecolor": "white",
            "showbackground": true,
            "ticks": "",
            "zerolinecolor": "white"
           }
          },
          "shapedefaults": {
           "line": {
            "color": "#2a3f5f"
           }
          },
          "ternary": {
           "aaxis": {
            "gridcolor": "white",
            "linecolor": "white",
            "ticks": ""
           },
           "baxis": {
            "gridcolor": "white",
            "linecolor": "white",
            "ticks": ""
           },
           "bgcolor": "#E5ECF6",
           "caxis": {
            "gridcolor": "white",
            "linecolor": "white",
            "ticks": ""
           }
          },
          "title": {
           "x": 0.05
          },
          "xaxis": {
           "automargin": true,
           "gridcolor": "white",
           "linecolor": "white",
           "ticks": "",
           "title": {
            "standoff": 15
           },
           "zerolinecolor": "white",
           "zerolinewidth": 2
          },
          "yaxis": {
           "automargin": true,
           "gridcolor": "white",
           "linecolor": "white",
           "ticks": "",
           "title": {
            "standoff": 15
           },
           "zerolinecolor": "white",
           "zerolinewidth": 2
          }
         }
        },
        "xaxis": {
         "anchor": "y",
         "domain": [
          0,
          1
         ]
        },
        "yaxis": {
         "anchor": "x",
         "domain": [
          0,
          1
         ],
         "title": {
          "text": "budget"
         }
        }
       }
      }
     },
     "metadata": {},
     "output_type": "display_data"
    }
   ],
   "source": [
    "fig = px.box(dataset_drop, y='budget')\n",
    "fig.show()"
   ]
  },
  {
   "cell_type": "markdown",
   "metadata": {},
   "source": [
    "## Mengecek kolom imdb_score"
   ]
  },
  {
   "cell_type": "code",
   "execution_count": 47,
   "metadata": {},
   "outputs": [
    {
     "data": {
      "text/plain": [
       "array([ 8.2,  7.2,  7.9,  6.5,  6.9,  8.1, -7.5,  7.8,  5.6,  8.6,  8. ,\n",
       "        8.5,  5.7,  7.5,  7.6,  7.4,  6.7,  6.3,  7. ,  6.1,  6.8,  8.4,\n",
       "        8.8,  4.3,  7.1,  7.3,  3. ,  6. ,  5.8,  5.3,  6.4,  6.6, -1.2,\n",
       "        5.9,  8.7])"
      ]
     },
     "execution_count": 47,
     "metadata": {},
     "output_type": "execute_result"
    }
   ],
   "source": [
    "dataset_drop['imdb_score'].unique()"
   ]
  },
  {
   "cell_type": "code",
   "execution_count": 49,
   "metadata": {},
   "outputs": [],
   "source": [
    "# Terdapat value yang minus, yang dimana seharusnya dalam sebuah rating paling kecil adalah 0\n",
    "## kita akan menggunakan metode abs seperti sebelumnya untuk menghilangkan negative value\n",
    "\n",
    "dataset_drop['imdb_score'] = dataset_drop['imdb_score'].abs()"
   ]
  },
  {
   "cell_type": "code",
   "execution_count": 50,
   "metadata": {},
   "outputs": [
    {
     "data": {
      "text/plain": [
       "array([8.2, 7.2, 7.9, 6.5, 6.9, 8.1, 7.5, 7.8, 5.6, 8.6, 8. , 8.5, 5.7,\n",
       "       7.6, 7.4, 6.7, 6.3, 7. , 6.1, 6.8, 8.4, 8.8, 4.3, 7.1, 7.3, 3. ,\n",
       "       6. , 5.8, 5.3, 6.4, 6.6, 1.2, 5.9, 8.7])"
      ]
     },
     "execution_count": 50,
     "metadata": {},
     "output_type": "execute_result"
    }
   ],
   "source": [
    "dataset_drop['imdb_score'].unique()"
   ]
  },
  {
   "cell_type": "markdown",
   "metadata": {},
   "source": [
    "# Mengecek dataset baru yang sudah dicleansing"
   ]
  },
  {
   "cell_type": "code",
   "execution_count": 51,
   "metadata": {},
   "outputs": [
    {
     "name": "stdout",
     "output_type": "stream",
     "text": [
      "╒══════════════════════╤════════════╤══════════════════╤══════════════════════════════════════════╤═════════════════════════════════════════════╤══════════════╤════════════╤════════════════╤══════════════╤══════════════╕\n",
      "│ director_name        │   duration │            gross │ genres                                   │ movie_title                                 │   title_year │ language   │ country        │       budget │   imdb_score │\n",
      "╞══════════════════════╪════════════╪══════════════════╪══════════════════════════════════════════╪═════════════════════════════════════════════╪══════════════╪════════════╪════════════════╪══════════════╪══════════════╡\n",
      "│ Martin Scorsese      │        240 │      1.16867e+08 │ Biography|Comedy|Crime|Drama             │ The Wolf of Wall Street                     │         2013 │ English    │ USA            │     1e+08    │          8.2 │\n",
      "├──────────────────────┼────────────┼──────────────────┼──────────────────────────────────────────┼─────────────────────────────────────────────┼──────────────┼────────────┼────────────────┼──────────────┼──────────────┤\n",
      "│ Shane Black          │        195 │      4.08992e+08 │ Action|Adventure|Sci-Fi                  │ Iron Man 3                                  │         2013 │ English    │ USA            │     2e+08    │          7.2 │\n",
      "├──────────────────────┼────────────┼──────────────────┼──────────────────────────────────────────┼─────────────────────────────────────────────┼──────────────┼────────────┼────────────────┼──────────────┼──────────────┤\n",
      "│ Quentin Tarantino    │        187 │      5.41162e+07 │ Crime|Drama|Mystery|Thriller|Western     │ The Hateful Eight                           │         2015 │ English    │ USA            │     4.4e+07  │          7.9 │\n",
      "├──────────────────────┼────────────┼──────────────────┼──────────────────────────────────────────┼─────────────────────────────────────────────┼──────────────┼────────────┼────────────────┼──────────────┼──────────────┤\n",
      "│ Kenneth Lonergan     │        186 │  46495           │ Drama                                    │ Margaret                                    │         2011 │ English    │ USA            │     1.4e+07  │          6.5 │\n",
      "├──────────────────────┼────────────┼──────────────────┼──────────────────────────────────────────┼─────────────────────────────────────────────┼──────────────┼────────────┼────────────────┼──────────────┼──────────────┤\n",
      "│ Peter Jackson        │        186 │      2.58355e+08 │ Adventure|Fantasy                        │ The Hobbit: The Desolation of Smaug         │         2013 │ English    │ USA            │     2.25e+08 │          7.9 │\n",
      "├──────────────────────┼────────────┼──────────────────┼──────────────────────────────────────────┼─────────────────────────────────────────────┼──────────────┼────────────┼────────────────┼──────────────┼──────────────┤\n",
      "│                      │        183 │      3.30249e+08 │ Action|Adventure|Sci-Fi                  │ Batman v Superman: Dawn of Justice          │         2002 │ English    │ USA            │     2.5e+08  │          6.9 │\n",
      "├──────────────────────┼────────────┼──────────────────┼──────────────────────────────────────────┼─────────────────────────────────────────────┼──────────────┼────────────┼────────────────┼──────────────┼──────────────┤\n",
      "│ Peter Jackson        │         50 │      3.03001e+08 │ Adventure|Fantasy                        │ The Hobbit: An Unexpected Journey           │         2012 │ English    │ USA            │     1.8e+08  │          7.9 │\n",
      "├──────────────────────┼────────────┼──────────────────┼──────────────────────────────────────────┼─────────────────────────────────────────────┼──────────────┼────────────┼────────────────┼──────────────┼──────────────┤\n",
      "│ Edward Hall          │        180 │      0           │ Drama|Romance                            │ Restless                                    │         2012 │ English    │ UK             │     0        │          7.2 │\n",
      "├──────────────────────┼────────────┼──────────────────┼──────────────────────────────────────────┼─────────────────────────────────────────────┼──────────────┼────────────┼────────────────┼──────────────┼──────────────┤\n",
      "│ Joss Whedon          │        173 │      6.2328e+08  │ Action|Adventure|Sci-Fi                  │ The Avengers                                │         2012 │ English    │ USA            │     2.2e+08  │          8.1 │\n",
      "├──────────────────────┼────────────┼──────────────────┼──────────────────────────────────────────┼─────────────────────────────────────────────┼──────────────┼────────────┼────────────────┼──────────────┼──────────────┤\n",
      "│ Joss Whedon          │        173 │      6.2328e+08  │ Action|Adventure|Sci-Fi                  │ The Avengers                                │         2012 │ English    │ USA            │     2.2e+08  │          8.1 │\n",
      "├──────────────────────┼────────────┼──────────────────┼──────────────────────────────────────────┼─────────────────────────────────────────────┼──────────────┼────────────┼────────────────┼──────────────┼──────────────┤\n",
      "│ Tom Tykwer           │        172 │      2.70986e+07 │ Drama|Sci-Fi                             │ Cloud Atlas                                 │         2012 │ English    │ GERMANY        │     1.02e+08 │          7.5 │\n",
      "├──────────────────────┼────────────┼──────────────────┼──────────────────────────────────────────┼─────────────────────────────────────────────┼──────────────┼────────────┼────────────────┼──────────────┼──────────────┤\n",
      "│                      │        158 │      1.02516e+08 │ Crime|Drama|Mystery|Thriller             │ The Girl with the Dragon Tattoo             │         2011 │ English    │ USA            │     9e+07    │          7.8 │\n",
      "├──────────────────────┼────────────┼──────────────────┼──────────────────────────────────────────┼─────────────────────────────────────────────┼──────────────┼────────────┼────────────────┼──────────────┼──────────────┤\n",
      "│ Christopher Spencer  │        170 │      5.96962e+07 │ Other                                    │ Son of God                                  │         2014 │ English    │ USA            │     2.2e+07  │          5.6 │\n",
      "├──────────────────────┼────────────┼──────────────────┼──────────────────────────────────────────┼─────────────────────────────────────────────┼──────────────┼────────────┼────────────────┼──────────────┼──────────────┤\n",
      "│ Christopher Nolan    │        169 │      1.87991e+08 │ Adventure|Drama|Sci-Fi                   │ Interstellar                                │         2014 │ English    │ USA            │     1.65e+08 │          8.6 │\n",
      "├──────────────────────┼────────────┼──────────────────┼──────────────────────────────────────────┼─────────────────────────────────────────────┼──────────────┼────────────┼────────────────┼──────────────┼──────────────┤\n",
      "│ F. Gary Gray         │        167 │      1.61029e+08 │ Biography|Crime|Drama|History|Music      │ Straight Outta Compton                      │         2015 │ English    │ USA            │     2.8e+07  │          7.9 │\n",
      "├──────────────────────┼────────────┼──────────────────┼──────────────────────────────────────────┼─────────────────────────────────────────────┼──────────────┼────────────┼────────────────┼──────────────┼──────────────┤\n",
      "│ Richard Linklater    │        165 │      2.53592e+07 │ Drama                                    │ Boyhood                                     │         2014 │ English    │ USA            │     4e+06    │          8   │\n",
      "├──────────────────────┼────────────┼──────────────────┼──────────────────────────────────────────┼─────────────────────────────────────────────┼──────────────┼────────────┼────────────────┼──────────────┼──────────────┤\n",
      "│ Quentin Tarantino    │        580 │      1.62805e+08 │ Drama|Western                            │ Django Unchained                            │         2012 │ English    │ USA            │     1e+08    │          8.5 │\n",
      "├──────────────────────┼────────────┼──────────────────┼──────────────────────────────────────────┼─────────────────────────────────────────────┼──────────────┼────────────┼────────────────┼──────────────┼──────────────┤\n",
      "│ Michael Bay          │        165 │      2.45428e+08 │ Action|Adventure|Sci-Fi                  │ Transformers: Age of Extinction             │         2014 │ English    │ USA            │     2.1e+08  │          5.7 │\n",
      "├──────────────────────┼────────────┼──────────────────┼──────────────────────────────────────────┼─────────────────────────────────────────────┼──────────────┼────────────┼────────────────┼──────────────┼──────────────┤\n",
      "│ Christopher Nolan    │        164 │      4.48131e+08 │ Action|Thriller                          │ The Dark Knight Rises                       │         2012 │ English    │ USA            │     2.5e+08  │          8.5 │\n",
      "├──────────────────────┼────────────┼──────────────────┼──────────────────────────────────────────┼─────────────────────────────────────────────┼──────────────┼────────────┼────────────────┼──────────────┼──────────────┤\n",
      "│ Peter Jackson        │        164 │      2.55108e+08 │ Adventure|Fantasy                        │ The Hobbit: The Battle of the Five Armies   │         2014 │ English    │ NEW ZEALAND    │     2.5e+08  │          7.5 │\n",
      "├──────────────────────┼────────────┼──────────────────┼──────────────────────────────────────────┼─────────────────────────────────────────────┼──────────────┼────────────┼────────────────┼──────────────┼──────────────┤\n",
      "│ Tom Hooper           │        158 │      1.48775e+08 │ Drama|Musical|Romance                    │ Les Misérables                              │         2012 │ English    │ USA            │     6.1e+07  │          7.6 │\n",
      "├──────────────────────┼────────────┼──────────────────┼──────────────────────────────────────────┼─────────────────────────────────────────────┼──────────────┼────────────┼────────────────┼──────────────┼──────────────┤\n",
      "│ Tom Hooper           │        158 │      1.48775e+08 │ Drama|Musical|Romance                    │ Les Misérables                              │         2012 │ English    │ USA            │     6.1e+07  │          7.6 │\n",
      "├──────────────────────┼────────────┼──────────────────┼──────────────────────────────────────────┼─────────────────────────────────────────────┼──────────────┼────────────┼────────────────┼──────────────┼──────────────┤\n",
      "│ Kathryn Bigelow      │        157 │      9.57207e+07 │ Drama|History|Thriller                   │ Zero Dark Thirty                            │         2012 │ English    │ USA            │     4e+07    │          7.4 │\n",
      "├──────────────────────┼────────────┼──────────────────┼──────────────────────────────────────────┼─────────────────────────────────────────────┼──────────────┼────────────┼────────────────┼──────────────┼──────────────┤\n",
      "│ Ridley Scott         │        156 │      1.0522e+08  │ Action|Adventure|Drama|History           │ Robin Hood                                  │         2010 │ English    │ USA            │     2e+08    │          6.7 │\n",
      "├──────────────────────┼────────────┼──────────────────┼──────────────────────────────────────────┼─────────────────────────────────────────────┼──────────────┼────────────┼────────────────┼──────────────┼──────────────┤\n",
      "│                      │        156 │      1.83636e+08 │ Adventure|Drama|Thriller|Western         │ The Revenant                                │         2015 │ English    │ USA            │     1.35e+08 │          8.1 │\n",
      "├──────────────────────┼────────────┼──────────────────┼──────────────────────────────────────────┼─────────────────────────────────────────────┼──────────────┼────────────┼────────────────┼──────────────┼──────────────┤\n",
      "│ Michael Bay          │        154 │      3.52359e+08 │ Action|Adventure|Sci-Fi                  │ Transformers: Dark of the Moon              │         2011 │ English    │ USA            │     1.95e+08 │          6.3 │\n",
      "├──────────────────────┼────────────┼──────────────────┼──────────────────────────────────────────┼─────────────────────────────────────────────┼──────────────┼────────────┼────────────────┼──────────────┼──────────────┤\n",
      "│ Denis Villeneuve     │        153 │      6.09629e+07 │ Crime|Drama|Mystery|Thriller             │ Prisoners                                   │         2013 │ English    │ USA            │     4.6e+07  │          8.1 │\n",
      "├──────────────────────┼────────────┼──────────────────┼──────────────────────────────────────────┼─────────────────────────────────────────────┼──────────────┼────────────┼────────────────┼──────────────┼──────────────┤\n",
      "│ Gnana Rajasekaran    │        153 │      0           │ Biography|Drama|History                  │ Ramanujan                                   │         2014 │ English    │ INDIA          │     0        │          7   │\n",
      "├──────────────────────┼────────────┼──────────────────┼──────────────────────────────────────────┼─────────────────────────────────────────────┼──────────────┼────────────┼────────────────┼──────────────┼──────────────┤\n",
      "│ Marc Webb            │        153 │      2.62031e+08 │ Action|Adventure|Fantasy                 │ The Amazing Spider-Man                      │         2012 │ English    │ USA            │     2.3e+08  │          7   │\n",
      "├──────────────────────┼────────────┼──────────────────┼──────────────────────────────────────────┼─────────────────────────────────────────────┼──────────────┼────────────┼────────────────┼──────────────┼──────────────┤\n",
      "│                      │        151 │      2.28431e+08 │ Adventure|Drama|Sci-Fi                   │ The Martian                                 │         2015 │ English    │ USA            │     1.08e+08 │          8.1 │\n",
      "├──────────────────────┼────────────┼──────────────────┼──────────────────────────────────────────┼─────────────────────────────────────────────┼──────────────┼────────────┼────────────────┼──────────────┼──────────────┤\n",
      "│ Ridley Scott         │        150 │      6.5007e+07  │ Action|Adventure|Drama                   │ Exodus: Gods and Kings                      │         2014 │ English    │ UK             │     1.4e+08  │          6.1 │\n",
      "├──────────────────────┼────────────┼──────────────────┼──────────────────────────────────────────┼─────────────────────────────────────────────┼──────────────┼────────────┼────────────────┼──────────────┼──────────────┤\n",
      "│ Ridley Scott         │        150 │      6.5007e+07  │ Action|Adventure|Drama                   │ Exodus: Gods and Kings                      │         2014 │ English    │ UK             │     1.4e+08  │          6.1 │\n",
      "├──────────────────────┼────────────┼──────────────────┼──────────────────────────────────────────┼─────────────────────────────────────────────┼──────────────┼────────────┼────────────────┼──────────────┼──────────────┤\n",
      "│                      │        150 │      1.82204e+08 │ Biography|Drama|History|War              │ Lincoln                                     │         2012 │ English    │ USA            │     6.5e+07  │          7.4 │\n",
      "├──────────────────────┼────────────┼──────────────────┼──────────────────────────────────────────┼─────────────────────────────────────────────┼──────────────┼────────────┼────────────────┼──────────────┼──────────────┤\n",
      "│ Mike Leigh           │        150 │      3.9585e+06  │ Biography|Drama|History                  │ Mr. Turner                                  │         2014 │ English    │ UK             │     0        │          6.8 │\n",
      "├──────────────────────┼────────────┼──────────────────┼──────────────────────────────────────────┼─────────────────────────────────────────────┼──────────────┼────────────┼────────────────┼──────────────┼──────────────┤\n",
      "│ Gore Verbinski       │        650 │      8.92899e+07 │ Action|Adventure|Western                 │ The Lone Ranger                             │         2013 │ English    │ USA            │     2.15e+08 │          6.5 │\n",
      "├──────────────────────┼────────────┼──────────────────┼──────────────────────────────────────────┼─────────────────────────────────────────────┼──────────────┼────────────┼────────────────┼──────────────┼──────────────┤\n",
      "│ David Fincher        │        149 │      1.67735e+08 │ Crime|Drama|Mystery|Thriller             │ Gone Girl                                   │         2014 │ English    │ USA            │     6.1e+07  │          8.1 │\n",
      "├──────────────────────┼────────────┼──────────────────┼──────────────────────────────────────────┼─────────────────────────────────────────────┼──────────────┼────────────┼────────────────┼──────────────┼──────────────┤\n",
      "│ Bryan Singer         │        149 │      2.33915e+08 │ Action|Adventure|Fantasy|Sci-Fi|Thriller │ X-Men: Days of Future Past                  │         2014 │ English    │ USA            │     2e+08    │          8   │\n",
      "├──────────────────────┼────────────┼──────────────────┼──────────────────────────────────────────┼─────────────────────────────────────────────┼──────────────┼────────────┼────────────────┼──────────────┼──────────────┤\n",
      "│ Jay Oliva            │        148 │      0           │ Action|Animation|Crime|Sci-Fi|Thriller   │ Batman: The Dark Knight Returns, Part 2     │         2013 │ English    │ USA            │     3.5e+06  │          8.4 │\n",
      "├──────────────────────┼────────────┼──────────────────┼──────────────────────────────────────────┼─────────────────────────────────────────────┼──────────────┼────────────┼────────────────┼──────────────┼──────────────┤\n",
      "│ Christopher Nolan    │        148 │      2.92569e+08 │ Action|Adventure|Sci-Fi|Thriller         │ Inception                                   │         2010 │ English    │ USA            │     1.6e+08  │          8.8 │\n",
      "├──────────────────────┼────────────┼──────────────────┼──────────────────────────────────────────┼─────────────────────────────────────────────┼──────────────┼────────────┼────────────────┼──────────────┼──────────────┤\n",
      "│ Paul Thomas Anderson │        148 │      8.09332e+06 │ Comedy|Crime|Drama|Mystery|Romance       │ Inherent Vice                               │         2014 │ English    │ USA            │     2e+07    │          6.7 │\n",
      "├──────────────────────┼────────────┼──────────────────┼──────────────────────────────────────────┼─────────────────────────────────────────────┼──────────────┼────────────┼────────────────┼──────────────┼──────────────┤\n",
      "│ Sam Mendes           │        148 │      2.00074e+08 │ Action|Adventure|Thriller                │ Spectre                                     │         2015 │ English    │ UK             │     2.45e+08 │          6.8 │\n",
      "├──────────────────────┼────────────┼──────────────────┼──────────────────────────────────────────┼─────────────────────────────────────────────┼──────────────┼────────────┼────────────────┼──────────────┼──────────────┤\n",
      "│                      │        147 │      4.07197e+08 │ Action|Adventure|Sci-Fi                  │ Captain America: Civil War                  │         2016 │ English    │ USA            │     2.5e+08  │          8.2 │\n",
      "├──────────────────────┼────────────┼──────────────────┼──────────────────────────────────────────┼─────────────────────────────────────────────┼──────────────┼────────────┼────────────────┼──────────────┼──────────────┤\n",
      "│ Michael Patrick King │        146 │      9.53289e+07 │ Comedy|Drama|Romance                     │ Sex and the City 2                          │         2010 │ English    │ USA            │     1e+08    │          4.3 │\n",
      "├──────────────────────┼────────────┼──────────────────┼──────────────────────────────────────────┼─────────────────────────────────────────────┼──────────────┼────────────┼────────────────┼──────────────┼──────────────┤\n",
      "│ Tate Taylor          │        146 │      1.69706e+08 │ Drama                                    │ The Help                                    │         2011 │ English    │ USA            │     2.5e+07  │          8.1 │\n",
      "├──────────────────────┼────────────┼──────────────────┼──────────────────────────────────────────┼─────────────────────────────────────────────┼──────────────┼────────────┼────────────────┼──────────────┼──────────────┤\n",
      "│ Francis Lawrence     │        146 │      4.24646e+08 │ Adventure|Sci-Fi|Thriller                │ The Hunger Games: Catching Fire             │         2013 │ English    │ USA            │     1.3e+08  │          7.6 │\n",
      "├──────────────────────┼────────────┼──────────────────┼──────────────────────────────────────────┼─────────────────────────────────────────────┼──────────────┼────────────┼────────────────┼──────────────┼──────────────┤\n",
      "│ Steven Spielberg     │        146 │      7.98834e+07 │ Drama|War                                │ War Horse                                   │         2011 │ English    │ USA            │     6.6e+07  │          7.2 │\n",
      "├──────────────────────┼────────────┼──────────────────┼──────────────────────────────────────────┼─────────────────────────────────────────────┼──────────────┼────────────┼────────────────┼──────────────┼──────────────┤\n",
      "│ Michael Bay          │        144 │      5.28224e+07 │ Action|Drama|Thriller|War                │ 13 Hours                                    │         2016 │ English    │ USA            │     5e+07    │          7.4 │\n",
      "├──────────────────────┼────────────┼──────────────────┼──────────────────────────────────────────┼─────────────────────────────────────────────┼──────────────┼────────────┼────────────────┼──────────────┼──────────────┤\n",
      "│ Guillaume Canet      │        144 │  41229           │ Crime|Drama|Thriller                     │ Blood Ties                                  │         2013 │ English    │ FRANCE         │     2.55e+07 │          6.5 │\n",
      "├──────────────────────┼────────────┼──────────────────┼──────────────────────────────────────────┼─────────────────────────────────────────────┼──────────────┼────────────┼────────────────┼──────────────┼──────────────┤\n",
      "│ Paul Thomas Anderson │        144 │      1.63773e+07 │ Drama                                    │ The Master                                  │         2012 │ English    │ USA            │     3.2e+07  │          7.1 │\n",
      "├──────────────────────┼────────────┼──────────────────┼──────────────────────────────────────────┼─────────────────────────────────────────────┼──────────────┼────────────┼────────────────┼──────────────┼──────────────┤\n",
      "│ Bryan Singer         │        144 │      1.54985e+08 │ Action|Adventure|Sci-Fi                  │ X-Men: Apocalypse                           │         2016 │ English    │ USA            │     1.78e+08 │          7.3 │\n",
      "├──────────────────────┼────────────┼──────────────────┼──────────────────────────────────────────┼─────────────────────────────────────────────┼──────────────┼────────────┼────────────────┼──────────────┼──────────────┤\n",
      "│ Adam McKay           │        143 │      2.17531e+06 │ Comedy                                   │ Anchorman 2: The Legend Continues           │         2013 │ English    │ USA            │     5e+07    │          6.3 │\n",
      "├──────────────────────┼────────────┼──────────────────┼──────────────────────────────────────────┼─────────────────────────────────────────────┼──────────────┼────────────┼────────────────┼──────────────┼──────────────┤\n",
      "│ Zack Snyder          │        143 │      2.91022e+08 │ Action|Adventure|Fantasy|Sci-Fi          │ Man of Steel                                │         2013 │ English    │ USA            │     2.25e+08 │          7.2 │\n",
      "├──────────────────────┼────────────┼──────────────────┼──────────────────────────────────────────┼─────────────────────────────────────────────┼──────────────┼────────────┼────────────────┼──────────────┼──────────────┤\n",
      "│ Sam Mendes           │        143 │      3.0436e+08  │ Action|Adventure|Thriller                │ Skyfall                                     │         2012 │ English    │ UK             │     2e+08    │          7.8 │\n",
      "├──────────────────────┼────────────┼──────────────────┼──────────────────────────────────────────┼─────────────────────────────────────────────┼──────────────┼────────────┼────────────────┼──────────────┼──────────────┤\n",
      "│ Sam Mendes           │        143 │      3.0436e+08  │ Action|Adventure|Thriller                │ Skyfall                                     │         2012 │ English    │ UK             │     2e+08    │          7.8 │\n",
      "├──────────────────────┼────────────┼──────────────────┼──────────────────────────────────────────┼─────────────────────────────────────────────┼──────────────┼────────────┼────────────────┼──────────────┼──────────────┤\n",
      "│ Baz Luhrmann         │        143 │      1.44813e+08 │ Drama|Romance                            │ The Great Gatsby                            │         2013 │ English    │ AUSTRALIA      │     1.05e+08 │          7.3 │\n",
      "├──────────────────────┼────────────┼──────────────────┼──────────────────────────────────────────┼─────────────────────────────────────────────┼──────────────┼────────────┼────────────────┼──────────────┼──────────────┤\n",
      "│ Baz Luhrmann         │        143 │      1.44813e+08 │ Drama|Romance                            │ The Great Gatsby                            │         2013 │ English    │ AUSTRALIA      │     1.05e+08 │          7.3 │\n",
      "├──────────────────────┼────────────┼──────────────────┼──────────────────────────────────────────┼─────────────────────────────────────────────┼──────────────┼────────────┼────────────────┼──────────────┼──────────────┤\n",
      "│                      │        143 │      0           │ Drama|Horror|Thriller                    │ The Ridges                                  │         2011 │ English    │ USA            │ 17350        │          3   │\n",
      "├──────────────────────┼────────────┼──────────────────┼──────────────────────────────────────────┼─────────────────────────────────────────────┼──────────────┼────────────┼────────────────┼──────────────┼──────────────┤\n",
      "│ Steven Spielberg     │        142 │      7.23061e+07 │ Drama|History|Thriller                   │ Bridge of Spies                             │         2015 │ English    │ USA            │     4e+07    │          7.6 │\n",
      "├──────────────────────┼────────────┼──────────────────┼──────────────────────────────────────────┼─────────────────────────────────────────────┼──────────────┼────────────┼────────────────┼──────────────┼──────────────┤\n",
      "│ Marc Webb            │        142 │      2.02854e+08 │ Action|Adventure|Fantasy|Sci-Fi          │ The Amazing Spider-Man 2                    │         2014 │ English    │ USA            │     2e+08    │          6.7 │\n",
      "├──────────────────────┼────────────┼──────────────────┼──────────────────────────────────────────┼─────────────────────────────────────────────┼──────────────┼────────────┼────────────────┼──────────────┼──────────────┤\n",
      "│                      │        142 │      4.07999e+08 │ Adventure|Drama|Sci-Fi|Thriller          │ The Hunger Games                            │         2012 │ English    │ USA            │     7.8e+07  │          7.3 │\n",
      "├──────────────────────┼────────────┼──────────────────┼──────────────────────────────────────────┼─────────────────────────────────────────────┼──────────────┼────────────┼────────────────┼──────────────┼──────────────┤\n",
      "│ Joss Whedon          │        141 │      4.58992e+08 │ Action|Adventure|Sci-Fi                  │ Avengers: Age of Ultron                     │         2015 │ English    │ USA            │     2.5e+08  │          7.5 │\n",
      "├──────────────────────┼────────────┼──────────────────┼──────────────────────────────────────────┼─────────────────────────────────────────────┼──────────────┼────────────┼────────────────┼──────────────┼──────────────┤\n",
      "│ Timur Bekmambetov    │        141 │      0           │ Adventure|Drama|History                  │ Ben-Hur                                     │         2016 │ English    │ USA            │     1e+08    │          6.1 │\n",
      "├──────────────────────┼────────────┼──────────────────┼──────────────────────────────────────────┼─────────────────────────────────────────────┼──────────────┼────────────┼────────────────┼──────────────┼──────────────┤\n",
      "│ Timur Bekmambetov    │        141 │      0           │ Adventure|Drama|History                  │ Ben-Hur                                     │         2016 │ English    │ USA            │     1e+08    │          6   │\n",
      "├──────────────────────┼────────────┼──────────────────┼──────────────────────────────────────────┼─────────────────────────────────────────────┼──────────────┼────────────┼────────────────┼──────────────┼──────────────┤\n",
      "│ Timur Bekmambetov    │        141 │      0           │ Adventure|Drama|History                  │ Ben-Hur                                     │         2016 │ English    │ USA            │     1e+08    │          6.1 │\n",
      "├──────────────────────┼────────────┼──────────────────┼──────────────────────────────────────────┼─────────────────────────────────────────────┼──────────────┼────────────┼────────────────┼──────────────┼──────────────┤\n",
      "│ Justin Chadwick      │        141 │      8.32475e+06 │ Biography|Drama|History                  │ Mandela: Long Walk to Freedom               │         2013 │ English    │ UK             │     3.5e+07  │          7.1 │\n",
      "├──────────────────────┼────────────┼──────────────────┼──────────────────────────────────────────┼─────────────────────────────────────────────┼──────────────┼────────────┼────────────────┼──────────────┼──────────────┤\n",
      "│ Oliver Stone         │        141 │      4.73076e+07 │ Crime|Drama|Thriller                     │ Savages                                     │         2012 │ English    │ USA            │     4.5e+07  │          6.5 │\n",
      "├──────────────────────┼────────────┼──────────────────┼──────────────────────────────────────────┼─────────────────────────────────────────────┼──────────────┼────────────┼────────────────┼──────────────┼──────────────┤\n",
      "│ David Dobkin         │        141 │      4.71051e+07 │ Crime|Drama                              │ The Judge                                   │         2014 │ English    │ USA            │     5e+07    │          7.4 │\n",
      "├──────────────────────┼────────────┼──────────────────┼──────────────────────────────────────────┼─────────────────────────────────────────────┼──────────────┼────────────┼────────────────┼──────────────┼──────────────┤\n",
      "│ Ryan Murphy          │        140 │      8.0574e+07  │ Drama|Romance                            │ Eat Pray Love                               │         2010 │ English    │ USA            │     6e+07    │          5.7 │\n",
      "├──────────────────────┼────────────┼──────────────────┼──────────────────────────────────────────┼─────────────────────────────────────────────┼──────────────┼────────────┼────────────────┼──────────────┼──────────────┤\n",
      "│ James Wan            │        140 │      3.50034e+08 │ Action|Crime|Thriller                    │ Furious 7                                   │         2015 │ English    │ USA            │     1.9e+08  │          7.2 │\n",
      "├──────────────────────┼────────────┼──────────────────┼──────────────────────────────────────────┼─────────────────────────────────────────────┼──────────────┼────────────┼────────────────┼──────────────┼──────────────┤\n",
      "│ Derek Cianfrance     │        140 │      2.13833e+07 │ Crime|Drama|Thriller                     │ The Place Beyond the Pines                  │         2012 │ English    │ USA            │     1.5e+07  │          7.3 │\n",
      "├──────────────────────┼────────────┼──────────────────┼──────────────────────────────────────────┼─────────────────────────────────────────────┼──────────────┼────────────┼────────────────┼──────────────┼──────────────┤\n",
      "│ Gavin O'Connor       │        140 │      1.36517e+07 │ Drama|Sport                              │ Warrior                                     │         2011 │ English    │ USA            │     2.5e+07  │          8.2 │\n",
      "├──────────────────────┼────────────┼──────────────────┼──────────────────────────────────────────┼─────────────────────────────────────────────┼──────────────┼────────────┼────────────────┼──────────────┼──────────────┤\n",
      "│                      │        139 │      1.50832e+08 │ Adventure|Mystery|Sci-Fi                 │ Divergent                                   │         2014 │ English    │ USA            │     8.5e+07  │          6.7 │\n",
      "├──────────────────────┼────────────┼──────────────────┼──────────────────────────────────────────┼─────────────────────────────────────────────┼──────────────┼────────────┼────────────────┼──────────────┼──────────────┤\n",
      "│ Gary Ross            │        139 │      2.039e+07   │ Action|Biography|Drama|History|War       │ Free State of Jones                         │         2016 │ English    │ USA            │     5e+07    │          6.7 │\n",
      "├──────────────────────┼────────────┼──────────────────┼──────────────────────────────────────────┼─────────────────────────────────────────────┼──────────────┼────────────┼────────────────┼──────────────┼──────────────┤\n",
      "│ Tate Taylor          │        139 │      3.05139e+07 │ Biography|Drama|Music                    │ Get on Up                                   │         2014 │ English    │ USA            │     3e+07    │          6.9 │\n",
      "├──────────────────────┼────────────┼──────────────────┼──────────────────────────────────────────┼─────────────────────────────────────────────┼──────────────┼────────────┼────────────────┼──────────────┼──────────────┤\n",
      "│ Terrence Malick      │        139 │      1.33033e+07 │ Drama|Fantasy                            │ The Tree of Life                            │         2011 │ English    │ USA            │     3.2e+07  │          6.7 │\n",
      "├──────────────────────┼────────────┼──────────────────┼──────────────────────────────────────────┼─────────────────────────────────────────────┼──────────────┼────────────┼────────────────┼──────────────┼──────────────┤\n",
      "│                      │        138 │      1.50118e+08 │ Crime|Drama                              │ American Hustle                             │         2013 │ English    │ USA            │     4e+07    │          7.3 │\n",
      "├──────────────────────┼────────────┼──────────────────┼──────────────────────────────────────────┼─────────────────────────────────────────────┼──────────────┼────────────┼────────────────┼──────────────┼──────────────┤\n",
      "│ Robert Zemeckis      │        138 │      9.37492e+07 │ Drama|Thriller                           │ Flight                                      │         2012 │ English    │ USA            │     3.1e+07  │          7.3 │\n",
      "├──────────────────────┼────────────┼──────────────────┼──────────────────────────────────────────┼─────────────────────────────────────────────┼──────────────┼────────────┼────────────────┼──────────────┼──────────────┤\n",
      "│ Darren Aronofsky     │        138 │      1.01161e+08 │ Action|Adventure|Drama                   │ Noah                                        │         2014 │ English    │ USA            │     1.25e+08 │          5.8 │\n",
      "├──────────────────────┼────────────┼──────────────────┼──────────────────────────────────────────┼─────────────────────────────────────────────┼──────────────┼────────────┼────────────────┼──────────────┼──────────────┤\n",
      "│ Martin Scorsese      │        138 │      1.27968e+08 │ Mystery|Thriller                         │ Shutter Island                              │         2010 │ English    │ USA            │     8e+07    │          8.1 │\n",
      "├──────────────────────┼────────────┼──────────────────┼──────────────────────────────────────────┼─────────────────────────────────────────────┼──────────────┼────────────┼────────────────┼──────────────┼──────────────┤\n",
      "│ Ridley Scott         │        138 │      1.69694e+07 │ Crime|Drama|Thriller                     │ The Counselor                               │         2013 │ English    │ USA            │     2.5e+07  │          5.3 │\n",
      "├──────────────────────┼────────────┼──────────────────┼──────────────────────────────────────────┼─────────────────────────────────────────────┼──────────────┼────────────┼────────────────┼──────────────┼──────────────┤\n",
      "│ James Mangold        │        138 │      1.32551e+08 │ Action|Adventure|Sci-Fi|Thriller         │ The Wolverine                               │         2013 │ English    │ USA            │     1.2e+08  │          6.7 │\n",
      "├──────────────────────┼────────────┼──────────────────┼──────────────────────────────────────────┼─────────────────────────────────────────────┼──────────────┼────────────┼────────────────┼──────────────┼──────────────┤\n",
      "│ Daniel Espinosa      │        137 │      1.20614e+06 │ Crime|Drama|Thriller                     │ Child 44                                    │         2005 │ English    │ CZECH REPUBLIC │     5e+07    │          6.4 │\n",
      "├──────────────────────┼────────────┼──────────────────┼──────────────────────────────────────────┼─────────────────────────────────────────────┼──────────────┼────────────┼────────────────┼──────────────┼──────────────┤\n",
      "│                      │        137 │      3.7305e+07  │ Biography|Crime|Drama                    │ J. Edgar                                    │         2011 │ English    │ USA            │     3.5e+07  │          6.6 │\n",
      "├──────────────────────┼────────────┼──────────────────┼──────────────────────────────────────────┼─────────────────────────────────────────────┼──────────────┼────────────┼────────────────┼──────────────┼──────────────┤\n",
      "│ Walter Salles        │        137 │ 717753           │ Adventure|Drama                          │ On the Road                                 │         2012 │ English    │ FRANCE         │     2.5e+07  │          6.1 │\n",
      "├──────────────────────┼────────────┼──────────────────┼──────────────────────────────────────────┼─────────────────────────────────────────────┼──────────────┼────────────┼────────────────┼──────────────┼──────────────┤\n",
      "│                      │        137 │      2.81666e+08 │ Adventure|Sci-Fi                         │ The Hunger Games: Mockingjay - Part 2       │         2015 │ English    │ USA            │     1.6e+08  │          6.6 │\n",
      "├──────────────────────┼────────────┼──────────────────┼──────────────────────────────────────────┼─────────────────────────────────────────────┼──────────────┼────────────┼────────────────┼──────────────┼──────────────┤\n",
      "│ Angelina Jolie Pitt  │        137 │      1.15604e+08 │ Biography|Drama|Sport|War                │ Unbroken                                    │         2014 │ English    │ USA            │     6.5e+07  │          1.2 │\n",
      "├──────────────────────┼────────────┼──────────────────┼──────────────────────────────────────────┼─────────────────────────────────────────────┼──────────────┼────────────┼────────────────┼──────────────┼──────────────┤\n",
      "│ Angelina Jolie Pitt  │        137 │      1.15604e+08 │ Biography|Drama|Sport|War                │ Unbroken                                    │         2014 │ English    │ USA            │     6.5e+07  │          7.2 │\n",
      "├──────────────────────┼────────────┼──────────────────┼──────────────────────────────────────────┼─────────────────────────────────────────────┼──────────────┼────────────┼────────────────┼──────────────┼──────────────┤\n",
      "│ Seth MacFarlane      │        136 │      4.26157e+07 │ Comedy|Western                           │ A Million Ways to Die in the West           │         2014 │ English    │ USA            │     4e+07    │          6.1 │\n",
      "├──────────────────────┼────────────┼──────────────────┼──────────────────────────────────────────┼─────────────────────────────────────────────┼──────────────┼────────────┼────────────────┼──────────────┼──────────────┤\n",
      "│ Anthony Russo        │        136 │      2.59747e+08 │ Action|Adventure|Sci-Fi                  │ Captain America: The Winter Soldier         │         2014 │ English    │ USA            │     1.7e+08  │          7.8 │\n",
      "├──────────────────────┼────────────┼──────────────────┼──────────────────────────────────────────┼─────────────────────────────────────────────┼──────────────┼────────────┼────────────────┼──────────────┼──────────────┤\n",
      "│ Rob Marshall         │        136 │      2.41064e+08 │ Action|Adventure|Fantasy                 │ Pirates of the Caribbean: On Stranger Tides │         2011 │ English    │ USA            │     2.5e+08  │          6.7 │\n",
      "├──────────────────────┼────────────┼──────────────────┼──────────────────────────────────────────┼─────────────────────────────────────────────┼──────────────┼────────────┼────────────────┼──────────────┼──────────────┤\n",
      "│ Adam Shankman        │        136 │      3.85093e+07 │ Comedy|Drama|Musical|Romance             │ Rock of Ages                                │         2012 │ English    │ USA            │     7.5e+07  │          5.9 │\n",
      "├──────────────────────┼────────────┼──────────────────┼──────────────────────────────────────────┼─────────────────────────────────────────────┼──────────────┼────────────┼────────────────┼──────────────┼──────────────┤\n",
      "│                      │        136 │      5.24746e+07 │ Drama                                    │ Wall Street: Money Never Sleeps             │         2010 │ English    │ USA            │     7e+07    │          6.3 │\n",
      "├──────────────────────┼────────────┼──────────────────┼──────────────────────────────────────────┼─────────────────────────────────────────────┼──────────────┼────────────┼────────────────┼──────────────┼──────────────┤\n",
      "│ Sadyk Sher-Niyaz     │        135 │      0           │ Action|Biography|Drama|History           │ Queen of the Mountains                      │         2014 │ English    │ KYRGYZSTAN     │     1.4e+06  │          8.7 │\n",
      "├──────────────────────┼────────────┼──────────────────┼──────────────────────────────────────────┼─────────────────────────────────────────────┼──────────────┼────────────┼────────────────┼──────────────┼──────────────┤\n",
      "│ Tony Gilroy          │        135 │      1.13166e+08 │ Action|Adventure|Thriller                │ The Bourne Legacy                           │         2012 │ English    │ USA            │     1.25e+08 │          6.7 │\n",
      "├──────────────────────┼────────────┼──────────────────┼──────────────────────────────────────────┼─────────────────────────────────────────────┼──────────────┼────────────┼────────────────┼──────────────┼──────────────┤\n",
      "│ Steve McQueen        │        134 │      5.66679e+07 │ Biography|Drama|History                  │ 12 Years a Slave                            │         2013 │ English    │ USA            │     2e+07    │          8.1 │\n",
      "├──────────────────────┼────────────┼──────────────────┼──────────────────────────────────────────┼─────────────────────────────────────────────┼──────────────┼────────────┼────────────────┼──────────────┼──────────────┤\n",
      "│ Richard J. Lewis     │        134 │      7.5014e+06  │ Comedy|Drama                             │ Barney's Version                            │         2010 │ English    │ CANADA         │     0        │          7.3 │\n",
      "├──────────────────────┼────────────┼──────────────────┼──────────────────────────────────────────┼─────────────────────────────────────────────┼──────────────┼────────────┼────────────────┼──────────────┼──────────────┤\n",
      "│ Paul Greengrass      │        134 │      1.07101e+08 │ Biography|Drama|Thriller                 │ Captain Phillips                            │         2013 │ English    │ USA            │     5.5e+07  │          7.9 │\n",
      "├──────────────────────┼────────────┼──────────────────┼──────────────────────────────────────────┼─────────────────────────────────────────────┼──────────────┼────────────┼────────────────┼──────────────┼──────────────┤\n",
      "│ David Ayer           │        134 │      8.57071e+07 │ Action|Drama|War                         │ Fury                                        │         2014 │ English    │ USA            │     6.8e+07  │          7.6 │\n",
      "├──────────────────────┼────────────┼──────────────────┼──────────────────────────────────────────┼─────────────────────────────────────────────┼──────────────┼────────────┼────────────────┼──────────────┼──────────────┤\n",
      "│ Clint Eastwood       │          5 │      4.70343e+07 │ Biography|Drama|Music|Musical            │ Jersey Boys                                 │         2014 │ English    │ USA            │     4e+07    │          6.9 │\n",
      "╘══════════════════════╧════════════╧══════════════════╧══════════════════════════════════════════╧═════════════════════════════════════════════╧══════════════╧════════════╧════════════════╧══════════════╧══════════════╛\n"
     ]
    }
   ],
   "source": [
    "table = dataset_drop.values.tolist()\n",
    "header = dataset_drop.columns.tolist()\n",
    "print(tbl(table, headers=header, tablefmt='fancy_grid'))"
   ]
  },
  {
   "cell_type": "code",
   "execution_count": 55,
   "metadata": {},
   "outputs": [
    {
     "data": {
      "text/plain": [
       "['director_name',\n",
       " 'duration',\n",
       " 'gross',\n",
       " 'genres',\n",
       " 'movie_title',\n",
       " 'title_year',\n",
       " 'language',\n",
       " 'country',\n",
       " 'budget',\n",
       " 'imdb_score']"
      ]
     },
     "execution_count": 55,
     "metadata": {},
     "output_type": "execute_result"
    }
   ],
   "source": [
    "dataset_drop.columns.tolist()"
   ]
  },
  {
   "cell_type": "markdown",
   "metadata": {},
   "source": [
    "# Melakukan EDA"
   ]
  },
  {
   "cell_type": "code",
   "execution_count": 56,
   "metadata": {},
   "outputs": [
    {
     "data": {
      "application/vnd.plotly.v1+json": {
       "config": {
        "plotlyServerURL": "https://plot.ly"
       },
       "data": [
        {
         "alignmentgroup": "True",
         "hovertemplate": "Tahun=%{x}<br>Jumlah Film=%{y}<extra></extra>",
         "legendgroup": "",
         "marker": {
          "color": "#636efa",
          "pattern": {
           "shape": ""
          }
         },
         "name": "",
         "offsetgroup": "",
         "orientation": "v",
         "showlegend": false,
         "textposition": "auto",
         "type": "bar",
         "x": [
          2014,
          2012,
          2013,
          2011,
          2015,
          2010,
          2016,
          2002,
          2005
         ],
         "xaxis": "x",
         "y": [
          24,
          22,
          18,
          10,
          9,
          7,
          7,
          1,
          1
         ],
         "yaxis": "y"
        }
       ],
       "layout": {
        "barmode": "relative",
        "legend": {
         "tracegroupgap": 0
        },
        "template": {
         "data": {
          "bar": [
           {
            "error_x": {
             "color": "#2a3f5f"
            },
            "error_y": {
             "color": "#2a3f5f"
            },
            "marker": {
             "line": {
              "color": "#E5ECF6",
              "width": 0.5
             },
             "pattern": {
              "fillmode": "overlay",
              "size": 10,
              "solidity": 0.2
             }
            },
            "type": "bar"
           }
          ],
          "barpolar": [
           {
            "marker": {
             "line": {
              "color": "#E5ECF6",
              "width": 0.5
             },
             "pattern": {
              "fillmode": "overlay",
              "size": 10,
              "solidity": 0.2
             }
            },
            "type": "barpolar"
           }
          ],
          "carpet": [
           {
            "aaxis": {
             "endlinecolor": "#2a3f5f",
             "gridcolor": "white",
             "linecolor": "white",
             "minorgridcolor": "white",
             "startlinecolor": "#2a3f5f"
            },
            "baxis": {
             "endlinecolor": "#2a3f5f",
             "gridcolor": "white",
             "linecolor": "white",
             "minorgridcolor": "white",
             "startlinecolor": "#2a3f5f"
            },
            "type": "carpet"
           }
          ],
          "choropleth": [
           {
            "colorbar": {
             "outlinewidth": 0,
             "ticks": ""
            },
            "type": "choropleth"
           }
          ],
          "contour": [
           {
            "colorbar": {
             "outlinewidth": 0,
             "ticks": ""
            },
            "colorscale": [
             [
              0,
              "#0d0887"
             ],
             [
              0.1111111111111111,
              "#46039f"
             ],
             [
              0.2222222222222222,
              "#7201a8"
             ],
             [
              0.3333333333333333,
              "#9c179e"
             ],
             [
              0.4444444444444444,
              "#bd3786"
             ],
             [
              0.5555555555555556,
              "#d8576b"
             ],
             [
              0.6666666666666666,
              "#ed7953"
             ],
             [
              0.7777777777777778,
              "#fb9f3a"
             ],
             [
              0.8888888888888888,
              "#fdca26"
             ],
             [
              1,
              "#f0f921"
             ]
            ],
            "type": "contour"
           }
          ],
          "contourcarpet": [
           {
            "colorbar": {
             "outlinewidth": 0,
             "ticks": ""
            },
            "type": "contourcarpet"
           }
          ],
          "heatmap": [
           {
            "colorbar": {
             "outlinewidth": 0,
             "ticks": ""
            },
            "colorscale": [
             [
              0,
              "#0d0887"
             ],
             [
              0.1111111111111111,
              "#46039f"
             ],
             [
              0.2222222222222222,
              "#7201a8"
             ],
             [
              0.3333333333333333,
              "#9c179e"
             ],
             [
              0.4444444444444444,
              "#bd3786"
             ],
             [
              0.5555555555555556,
              "#d8576b"
             ],
             [
              0.6666666666666666,
              "#ed7953"
             ],
             [
              0.7777777777777778,
              "#fb9f3a"
             ],
             [
              0.8888888888888888,
              "#fdca26"
             ],
             [
              1,
              "#f0f921"
             ]
            ],
            "type": "heatmap"
           }
          ],
          "heatmapgl": [
           {
            "colorbar": {
             "outlinewidth": 0,
             "ticks": ""
            },
            "colorscale": [
             [
              0,
              "#0d0887"
             ],
             [
              0.1111111111111111,
              "#46039f"
             ],
             [
              0.2222222222222222,
              "#7201a8"
             ],
             [
              0.3333333333333333,
              "#9c179e"
             ],
             [
              0.4444444444444444,
              "#bd3786"
             ],
             [
              0.5555555555555556,
              "#d8576b"
             ],
             [
              0.6666666666666666,
              "#ed7953"
             ],
             [
              0.7777777777777778,
              "#fb9f3a"
             ],
             [
              0.8888888888888888,
              "#fdca26"
             ],
             [
              1,
              "#f0f921"
             ]
            ],
            "type": "heatmapgl"
           }
          ],
          "histogram": [
           {
            "marker": {
             "pattern": {
              "fillmode": "overlay",
              "size": 10,
              "solidity": 0.2
             }
            },
            "type": "histogram"
           }
          ],
          "histogram2d": [
           {
            "colorbar": {
             "outlinewidth": 0,
             "ticks": ""
            },
            "colorscale": [
             [
              0,
              "#0d0887"
             ],
             [
              0.1111111111111111,
              "#46039f"
             ],
             [
              0.2222222222222222,
              "#7201a8"
             ],
             [
              0.3333333333333333,
              "#9c179e"
             ],
             [
              0.4444444444444444,
              "#bd3786"
             ],
             [
              0.5555555555555556,
              "#d8576b"
             ],
             [
              0.6666666666666666,
              "#ed7953"
             ],
             [
              0.7777777777777778,
              "#fb9f3a"
             ],
             [
              0.8888888888888888,
              "#fdca26"
             ],
             [
              1,
              "#f0f921"
             ]
            ],
            "type": "histogram2d"
           }
          ],
          "histogram2dcontour": [
           {
            "colorbar": {
             "outlinewidth": 0,
             "ticks": ""
            },
            "colorscale": [
             [
              0,
              "#0d0887"
             ],
             [
              0.1111111111111111,
              "#46039f"
             ],
             [
              0.2222222222222222,
              "#7201a8"
             ],
             [
              0.3333333333333333,
              "#9c179e"
             ],
             [
              0.4444444444444444,
              "#bd3786"
             ],
             [
              0.5555555555555556,
              "#d8576b"
             ],
             [
              0.6666666666666666,
              "#ed7953"
             ],
             [
              0.7777777777777778,
              "#fb9f3a"
             ],
             [
              0.8888888888888888,
              "#fdca26"
             ],
             [
              1,
              "#f0f921"
             ]
            ],
            "type": "histogram2dcontour"
           }
          ],
          "mesh3d": [
           {
            "colorbar": {
             "outlinewidth": 0,
             "ticks": ""
            },
            "type": "mesh3d"
           }
          ],
          "parcoords": [
           {
            "line": {
             "colorbar": {
              "outlinewidth": 0,
              "ticks": ""
             }
            },
            "type": "parcoords"
           }
          ],
          "pie": [
           {
            "automargin": true,
            "type": "pie"
           }
          ],
          "scatter": [
           {
            "fillpattern": {
             "fillmode": "overlay",
             "size": 10,
             "solidity": 0.2
            },
            "type": "scatter"
           }
          ],
          "scatter3d": [
           {
            "line": {
             "colorbar": {
              "outlinewidth": 0,
              "ticks": ""
             }
            },
            "marker": {
             "colorbar": {
              "outlinewidth": 0,
              "ticks": ""
             }
            },
            "type": "scatter3d"
           }
          ],
          "scattercarpet": [
           {
            "marker": {
             "colorbar": {
              "outlinewidth": 0,
              "ticks": ""
             }
            },
            "type": "scattercarpet"
           }
          ],
          "scattergeo": [
           {
            "marker": {
             "colorbar": {
              "outlinewidth": 0,
              "ticks": ""
             }
            },
            "type": "scattergeo"
           }
          ],
          "scattergl": [
           {
            "marker": {
             "colorbar": {
              "outlinewidth": 0,
              "ticks": ""
             }
            },
            "type": "scattergl"
           }
          ],
          "scattermapbox": [
           {
            "marker": {
             "colorbar": {
              "outlinewidth": 0,
              "ticks": ""
             }
            },
            "type": "scattermapbox"
           }
          ],
          "scatterpolar": [
           {
            "marker": {
             "colorbar": {
              "outlinewidth": 0,
              "ticks": ""
             }
            },
            "type": "scatterpolar"
           }
          ],
          "scatterpolargl": [
           {
            "marker": {
             "colorbar": {
              "outlinewidth": 0,
              "ticks": ""
             }
            },
            "type": "scatterpolargl"
           }
          ],
          "scatterternary": [
           {
            "marker": {
             "colorbar": {
              "outlinewidth": 0,
              "ticks": ""
             }
            },
            "type": "scatterternary"
           }
          ],
          "surface": [
           {
            "colorbar": {
             "outlinewidth": 0,
             "ticks": ""
            },
            "colorscale": [
             [
              0,
              "#0d0887"
             ],
             [
              0.1111111111111111,
              "#46039f"
             ],
             [
              0.2222222222222222,
              "#7201a8"
             ],
             [
              0.3333333333333333,
              "#9c179e"
             ],
             [
              0.4444444444444444,
              "#bd3786"
             ],
             [
              0.5555555555555556,
              "#d8576b"
             ],
             [
              0.6666666666666666,
              "#ed7953"
             ],
             [
              0.7777777777777778,
              "#fb9f3a"
             ],
             [
              0.8888888888888888,
              "#fdca26"
             ],
             [
              1,
              "#f0f921"
             ]
            ],
            "type": "surface"
           }
          ],
          "table": [
           {
            "cells": {
             "fill": {
              "color": "#EBF0F8"
             },
             "line": {
              "color": "white"
             }
            },
            "header": {
             "fill": {
              "color": "#C8D4E3"
             },
             "line": {
              "color": "white"
             }
            },
            "type": "table"
           }
          ]
         },
         "layout": {
          "annotationdefaults": {
           "arrowcolor": "#2a3f5f",
           "arrowhead": 0,
           "arrowwidth": 1
          },
          "autotypenumbers": "strict",
          "coloraxis": {
           "colorbar": {
            "outlinewidth": 0,
            "ticks": ""
           }
          },
          "colorscale": {
           "diverging": [
            [
             0,
             "#8e0152"
            ],
            [
             0.1,
             "#c51b7d"
            ],
            [
             0.2,
             "#de77ae"
            ],
            [
             0.3,
             "#f1b6da"
            ],
            [
             0.4,
             "#fde0ef"
            ],
            [
             0.5,
             "#f7f7f7"
            ],
            [
             0.6,
             "#e6f5d0"
            ],
            [
             0.7,
             "#b8e186"
            ],
            [
             0.8,
             "#7fbc41"
            ],
            [
             0.9,
             "#4d9221"
            ],
            [
             1,
             "#276419"
            ]
           ],
           "sequential": [
            [
             0,
             "#0d0887"
            ],
            [
             0.1111111111111111,
             "#46039f"
            ],
            [
             0.2222222222222222,
             "#7201a8"
            ],
            [
             0.3333333333333333,
             "#9c179e"
            ],
            [
             0.4444444444444444,
             "#bd3786"
            ],
            [
             0.5555555555555556,
             "#d8576b"
            ],
            [
             0.6666666666666666,
             "#ed7953"
            ],
            [
             0.7777777777777778,
             "#fb9f3a"
            ],
            [
             0.8888888888888888,
             "#fdca26"
            ],
            [
             1,
             "#f0f921"
            ]
           ],
           "sequentialminus": [
            [
             0,
             "#0d0887"
            ],
            [
             0.1111111111111111,
             "#46039f"
            ],
            [
             0.2222222222222222,
             "#7201a8"
            ],
            [
             0.3333333333333333,
             "#9c179e"
            ],
            [
             0.4444444444444444,
             "#bd3786"
            ],
            [
             0.5555555555555556,
             "#d8576b"
            ],
            [
             0.6666666666666666,
             "#ed7953"
            ],
            [
             0.7777777777777778,
             "#fb9f3a"
            ],
            [
             0.8888888888888888,
             "#fdca26"
            ],
            [
             1,
             "#f0f921"
            ]
           ]
          },
          "colorway": [
           "#636efa",
           "#EF553B",
           "#00cc96",
           "#ab63fa",
           "#FFA15A",
           "#19d3f3",
           "#FF6692",
           "#B6E880",
           "#FF97FF",
           "#FECB52"
          ],
          "font": {
           "color": "#2a3f5f"
          },
          "geo": {
           "bgcolor": "white",
           "lakecolor": "white",
           "landcolor": "#E5ECF6",
           "showlakes": true,
           "showland": true,
           "subunitcolor": "white"
          },
          "hoverlabel": {
           "align": "left"
          },
          "hovermode": "closest",
          "mapbox": {
           "style": "light"
          },
          "paper_bgcolor": "white",
          "plot_bgcolor": "#E5ECF6",
          "polar": {
           "angularaxis": {
            "gridcolor": "white",
            "linecolor": "white",
            "ticks": ""
           },
           "bgcolor": "#E5ECF6",
           "radialaxis": {
            "gridcolor": "white",
            "linecolor": "white",
            "ticks": ""
           }
          },
          "scene": {
           "xaxis": {
            "backgroundcolor": "#E5ECF6",
            "gridcolor": "white",
            "gridwidth": 2,
            "linecolor": "white",
            "showbackground": true,
            "ticks": "",
            "zerolinecolor": "white"
           },
           "yaxis": {
            "backgroundcolor": "#E5ECF6",
            "gridcolor": "white",
            "gridwidth": 2,
            "linecolor": "white",
            "showbackground": true,
            "ticks": "",
            "zerolinecolor": "white"
           },
           "zaxis": {
            "backgroundcolor": "#E5ECF6",
            "gridcolor": "white",
            "gridwidth": 2,
            "linecolor": "white",
            "showbackground": true,
            "ticks": "",
            "zerolinecolor": "white"
           }
          },
          "shapedefaults": {
           "line": {
            "color": "#2a3f5f"
           }
          },
          "ternary": {
           "aaxis": {
            "gridcolor": "white",
            "linecolor": "white",
            "ticks": ""
           },
           "baxis": {
            "gridcolor": "white",
            "linecolor": "white",
            "ticks": ""
           },
           "bgcolor": "#E5ECF6",
           "caxis": {
            "gridcolor": "white",
            "linecolor": "white",
            "ticks": ""
           }
          },
          "title": {
           "x": 0.05
          },
          "xaxis": {
           "automargin": true,
           "gridcolor": "white",
           "linecolor": "white",
           "ticks": "",
           "title": {
            "standoff": 15
           },
           "zerolinecolor": "white",
           "zerolinewidth": 2
          },
          "yaxis": {
           "automargin": true,
           "gridcolor": "white",
           "linecolor": "white",
           "ticks": "",
           "title": {
            "standoff": 15
           },
           "zerolinecolor": "white",
           "zerolinewidth": 2
          }
         }
        },
        "title": {
         "text": "Jumlah Film per Tahun"
        },
        "xaxis": {
         "anchor": "y",
         "domain": [
          0,
          1
         ],
         "title": {
          "text": "Tahun"
         }
        },
        "yaxis": {
         "anchor": "x",
         "domain": [
          0,
          1
         ],
         "title": {
          "text": "Jumlah Film"
         }
        }
       }
      }
     },
     "metadata": {},
     "output_type": "display_data"
    }
   ],
   "source": [
    "# Menghitung jumlah film per tahun\n",
    "films_per_year = dataset_drop['title_year'].value_counts().reset_index()\n",
    "films_per_year.columns = ['title_year', 'count']\n",
    "\n",
    "# Membuat grafik\n",
    "fig = px.bar(films_per_year, x='title_year', y='count',\n",
    "             labels={'count': 'Jumlah Film', 'title_year': 'Tahun'},\n",
    "             title='Jumlah Film per Tahun')\n",
    "\n",
    "# Menampilkan grafik\n",
    "fig.show()\n"
   ]
  }
 ],
 "metadata": {
  "kernelspec": {
   "display_name": "base",
   "language": "python",
   "name": "python3"
  },
  "language_info": {
   "codemirror_mode": {
    "name": "ipython",
    "version": 3
   },
   "file_extension": ".py",
   "mimetype": "text/x-python",
   "name": "python",
   "nbconvert_exporter": "python",
   "pygments_lexer": "ipython3",
   "version": "3.11.5"
  }
 },
 "nbformat": 4,
 "nbformat_minor": 2
}
